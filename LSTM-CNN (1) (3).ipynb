{
 "cells": [
  {
   "cell_type": "markdown",
   "metadata": {
    "_uuid": "92b885dd147dac19bd0a33db3cd0da100bd5bc23"
   },
   "source": [
    "# Twitter Sentiment Analysis"
   ]
  },
  {
   "cell_type": "code",
   "execution_count": 1,
   "metadata": {
    "_uuid": "303e72966af732ddef0bd8108a321095314e44af"
   },
   "outputs": [
    {
     "name": "stderr",
     "output_type": "stream",
     "text": [
      "2022-12-13 19:28:29.101603: I tensorflow/core/platform/cpu_feature_guard.cc:193] This TensorFlow binary is optimized with oneAPI Deep Neural Network Library (oneDNN) to use the following CPU instructions in performance-critical operations:  AVX2 FMA\n",
      "To enable them in other operations, rebuild TensorFlow with the appropriate compiler flags.\n"
     ]
    }
   ],
   "source": [
    "# DataFrame\n",
    "import pandas as pd\n",
    "\n",
    "# Matplot\n",
    "import matplotlib.pyplot as plt\n",
    "%matplotlib inline\n",
    "\n",
    "# Scikit-learn\n",
    "from sklearn.model_selection import train_test_split\n",
    "from sklearn.preprocessing import LabelEncoder\n",
    "from sklearn.metrics import confusion_matrix, classification_report, accuracy_score\n",
    "from sklearn.manifold import TSNE\n",
    "from sklearn.feature_extraction.text import TfidfVectorizer\n",
    "\n",
    "# Keras\n",
    "from keras.preprocessing.text import Tokenizer\n",
    "from keras.models import Sequential\n",
    "from keras_preprocessing.sequence import pad_sequences\n",
    "from keras.layers import Activation, Dense, Dropout, Embedding, Flatten, Conv1D, MaxPooling1D, LSTM\n",
    "from keras import utils\n",
    "from keras.callbacks import ReduceLROnPlateau, EarlyStopping\n",
    "from keras.models import Sequential\n",
    "from keras.layers import Dense, Conv2D, Flatten, Reshape\n",
    "import keras\n",
    "\n",
    "# nltk\n",
    "import nltk\n",
    "import ssl\n",
    "from nltk.corpus import stopwords\n",
    "from  nltk.stem import SnowballStemmer\n",
    "\n",
    "# Word2vec\n",
    "import gensim\n",
    "\n",
    "# Utility\n",
    "import re\n",
    "import numpy as np\n",
    "import os\n",
    "from collections import Counter\n",
    "import logging\n",
    "import time\n",
    "import pickle\n",
    "import itertools\n",
    "\n",
    "# Set log\n",
    "logging.basicConfig(format='%(asctime)s : %(levelname)s : %(message)s', level=logging.INFO)"
   ]
  },
  {
   "cell_type": "code",
   "execution_count": 2,
   "metadata": {
    "_uuid": "35e1a89dead5fd160e4c9a024a21d2e569fc89ff"
   },
   "outputs": [
    {
     "name": "stderr",
     "output_type": "stream",
     "text": [
      "[nltk_data] Error loading stopwords: <urlopen error [Errno 8] nodename\n",
      "[nltk_data]     nor servname provided, or not known>\n"
     ]
    },
    {
     "data": {
      "text/plain": [
       "False"
      ]
     },
     "execution_count": 2,
     "metadata": {},
     "output_type": "execute_result"
    }
   ],
   "source": [
    "try:\n",
    "    _create_unverified_https_context = ssl._create_unverified_context\n",
    "except AttributeError:\n",
    "    pass\n",
    "else:\n",
    "    ssl._create_default_https_context = _create_unverified_https_context\n",
    "    \n",
    "nltk.download('stopwords')"
   ]
  },
  {
   "cell_type": "markdown",
   "metadata": {
    "_uuid": "e8b01a07df001e4abcc745900336c4db06e455f3"
   },
   "source": [
    "### Settings"
   ]
  },
  {
   "cell_type": "code",
   "execution_count": 3,
   "metadata": {
    "_uuid": "180f0dd2a95419e4602b5c0229822b0111c826f6"
   },
   "outputs": [],
   "source": [
    "# DATASET\n",
    "COLUMNS_DATASET = [\"target\", \"ids\", \"date\", \"flag\", \"user\", \"text\"]\n",
    "DATASETENCODING = \"ISO-8859-1\"\n",
    "TRAINSIZE = 0.8\n",
    "\n",
    "# TEXT CLENAING\n",
    "TEXT_CLEANING_RE = \"@\\S+|https?:\\S+|http?:\\S|[^A-Za-z0-9]+\"\n",
    "\n",
    "# WORD2VEC \n",
    "\n",
    "WINDOW_W2V = 10\n",
    "SIZE_W2V = 500\n",
    "MIN_COUNT_W2V = 15\n",
    "EPOCH_W2V = 50\n",
    "\n",
    "\n",
    "\n",
    "# EXPORT\n",
    "KERASMODEL = \"model.h5\"\n",
    "WORD2VECMODEL = \"model.w2v\"\n",
    "TOKENIZERMODEL = \"tokenizer.pkl\"\n",
    "ENCODERMODEL = \"encoder.pkl\"\n",
    "\n",
    "# SENTIMENT\n",
    "POSITIVE = \"POSITIVE\"\n",
    "NEGATIVE = \"NEGATIVE\"\n",
    "NEUTRAL = \"NEUTRAL\"\n",
    "SENTIMENT_THRESHOLDS = (0.5, 0.7)\n",
    "\n",
    "\n",
    "# KERAS\n",
    "EPOCHS = 8\n",
    "LENGTH_SEQ = 300\n",
    "BATCHSIZE = 1024"
   ]
  },
  {
   "cell_type": "markdown",
   "metadata": {
    "_uuid": "1c3beecc618be68480b3d4f0de08d9d863da1dc1"
   },
   "source": [
    "### Read Dataset"
   ]
  },
  {
   "cell_type": "markdown",
   "metadata": {
    "_uuid": "563b3c44f1092dba0b853747b098e00509098cca"
   },
   "source": [
    "### Dataset details\n",
    "* **target**: the polarity of the tweet (0 = negative, 2 = neutral, 4 = positive)\n",
    "* **ids**: The id of the tweet ( 2087)\n",
    "* **date**: the date of the tweet (Sat May 16 23:58:44 UTC 2009)\n",
    "* **flag**: The query (lyx). If there is no query, then this value is NO_QUERY.\n",
    "* **user**: the user that tweeted (robotickilldozr)\n",
    "* **text**: the text of the tweet (Lyx is cool)"
   ]
  },
  {
   "cell_type": "code",
   "execution_count": 4,
   "metadata": {
    "_uuid": "bba8f91cd70de4f5ea0fb0870ae2029b6e3dcc24"
   },
   "outputs": [],
   "source": [
    "df = pd.read_csv('training.1600000.processed.noemoticon.csv', encoding =DATASETENCODING , names=COLUMNS_DATASET)"
   ]
  },
  {
   "cell_type": "code",
   "execution_count": 5,
   "metadata": {
    "_uuid": "936d499c00c4f1648bc16ca9d283c3b39be7fb10"
   },
   "outputs": [
    {
     "name": "stdout",
     "output_type": "stream",
     "text": [
      "Dataset size: 1600000\n"
     ]
    }
   ],
   "source": [
    "print(\"Dataset size:\", len(df))"
   ]
  },
  {
   "cell_type": "code",
   "execution_count": 31,
   "metadata": {},
   "outputs": [
    {
     "data": {
      "text/html": [
       "<div>\n",
       "<style scoped>\n",
       "    .dataframe tbody tr th:only-of-type {\n",
       "        vertical-align: middle;\n",
       "    }\n",
       "\n",
       "    .dataframe tbody tr th {\n",
       "        vertical-align: top;\n",
       "    }\n",
       "\n",
       "    .dataframe thead th {\n",
       "        text-align: right;\n",
       "    }\n",
       "</style>\n",
       "<table border=\"1\" class=\"dataframe\">\n",
       "  <thead>\n",
       "    <tr style=\"text-align: right;\">\n",
       "      <th></th>\n",
       "      <th>target</th>\n",
       "      <th>ids</th>\n",
       "      <th>date</th>\n",
       "      <th>flag</th>\n",
       "      <th>user</th>\n",
       "      <th>text</th>\n",
       "    </tr>\n",
       "  </thead>\n",
       "  <tbody>\n",
       "    <tr>\n",
       "      <th>0</th>\n",
       "      <td>NEGATIVE</td>\n",
       "      <td>1467810369</td>\n",
       "      <td>Mon Apr 06 22:19:45 PDT 2009</td>\n",
       "      <td>NO_QUERY</td>\n",
       "      <td>_TheSpecialOne_</td>\n",
       "      <td>awww bummer shoulda got david carr third day</td>\n",
       "    </tr>\n",
       "    <tr>\n",
       "      <th>1</th>\n",
       "      <td>NEGATIVE</td>\n",
       "      <td>1467810672</td>\n",
       "      <td>Mon Apr 06 22:19:49 PDT 2009</td>\n",
       "      <td>NO_QUERY</td>\n",
       "      <td>scotthamilton</td>\n",
       "      <td>upset update facebook texting might cry result...</td>\n",
       "    </tr>\n",
       "    <tr>\n",
       "      <th>2</th>\n",
       "      <td>NEGATIVE</td>\n",
       "      <td>1467810917</td>\n",
       "      <td>Mon Apr 06 22:19:53 PDT 2009</td>\n",
       "      <td>NO_QUERY</td>\n",
       "      <td>mattycus</td>\n",
       "      <td>dived many times ball managed save 50 rest go ...</td>\n",
       "    </tr>\n",
       "    <tr>\n",
       "      <th>3</th>\n",
       "      <td>NEGATIVE</td>\n",
       "      <td>1467811184</td>\n",
       "      <td>Mon Apr 06 22:19:57 PDT 2009</td>\n",
       "      <td>NO_QUERY</td>\n",
       "      <td>ElleCTF</td>\n",
       "      <td>whole body feels itchy like fire</td>\n",
       "    </tr>\n",
       "    <tr>\n",
       "      <th>4</th>\n",
       "      <td>NEGATIVE</td>\n",
       "      <td>1467811193</td>\n",
       "      <td>Mon Apr 06 22:19:57 PDT 2009</td>\n",
       "      <td>NO_QUERY</td>\n",
       "      <td>Karoli</td>\n",
       "      <td>behaving mad see</td>\n",
       "    </tr>\n",
       "    <tr>\n",
       "      <th>...</th>\n",
       "      <td>...</td>\n",
       "      <td>...</td>\n",
       "      <td>...</td>\n",
       "      <td>...</td>\n",
       "      <td>...</td>\n",
       "      <td>...</td>\n",
       "    </tr>\n",
       "    <tr>\n",
       "      <th>1599995</th>\n",
       "      <td>POSITIVE</td>\n",
       "      <td>2193601966</td>\n",
       "      <td>Tue Jun 16 08:40:49 PDT 2009</td>\n",
       "      <td>NO_QUERY</td>\n",
       "      <td>AmandaMarie1028</td>\n",
       "      <td>woke school best feeling ever</td>\n",
       "    </tr>\n",
       "    <tr>\n",
       "      <th>1599996</th>\n",
       "      <td>POSITIVE</td>\n",
       "      <td>2193601969</td>\n",
       "      <td>Tue Jun 16 08:40:49 PDT 2009</td>\n",
       "      <td>NO_QUERY</td>\n",
       "      <td>TheWDBoards</td>\n",
       "      <td>thewdb com cool hear old walt interviews</td>\n",
       "    </tr>\n",
       "    <tr>\n",
       "      <th>1599997</th>\n",
       "      <td>POSITIVE</td>\n",
       "      <td>2193601991</td>\n",
       "      <td>Tue Jun 16 08:40:49 PDT 2009</td>\n",
       "      <td>NO_QUERY</td>\n",
       "      <td>bpbabe</td>\n",
       "      <td>ready mojo makeover ask details</td>\n",
       "    </tr>\n",
       "    <tr>\n",
       "      <th>1599998</th>\n",
       "      <td>POSITIVE</td>\n",
       "      <td>2193602064</td>\n",
       "      <td>Tue Jun 16 08:40:49 PDT 2009</td>\n",
       "      <td>NO_QUERY</td>\n",
       "      <td>tinydiamondz</td>\n",
       "      <td>happy 38th birthday boo alll time tupac amaru ...</td>\n",
       "    </tr>\n",
       "    <tr>\n",
       "      <th>1599999</th>\n",
       "      <td>POSITIVE</td>\n",
       "      <td>2193602129</td>\n",
       "      <td>Tue Jun 16 08:40:50 PDT 2009</td>\n",
       "      <td>NO_QUERY</td>\n",
       "      <td>RyanTrevMorris</td>\n",
       "      <td>happy charitytuesday thenspcc sparkscharity sp...</td>\n",
       "    </tr>\n",
       "  </tbody>\n",
       "</table>\n",
       "<p>1600000 rows × 6 columns</p>\n",
       "</div>"
      ],
      "text/plain": [
       "           target         ids                          date      flag  \\\n",
       "0        NEGATIVE  1467810369  Mon Apr 06 22:19:45 PDT 2009  NO_QUERY   \n",
       "1        NEGATIVE  1467810672  Mon Apr 06 22:19:49 PDT 2009  NO_QUERY   \n",
       "2        NEGATIVE  1467810917  Mon Apr 06 22:19:53 PDT 2009  NO_QUERY   \n",
       "3        NEGATIVE  1467811184  Mon Apr 06 22:19:57 PDT 2009  NO_QUERY   \n",
       "4        NEGATIVE  1467811193  Mon Apr 06 22:19:57 PDT 2009  NO_QUERY   \n",
       "...           ...         ...                           ...       ...   \n",
       "1599995  POSITIVE  2193601966  Tue Jun 16 08:40:49 PDT 2009  NO_QUERY   \n",
       "1599996  POSITIVE  2193601969  Tue Jun 16 08:40:49 PDT 2009  NO_QUERY   \n",
       "1599997  POSITIVE  2193601991  Tue Jun 16 08:40:49 PDT 2009  NO_QUERY   \n",
       "1599998  POSITIVE  2193602064  Tue Jun 16 08:40:49 PDT 2009  NO_QUERY   \n",
       "1599999  POSITIVE  2193602129  Tue Jun 16 08:40:50 PDT 2009  NO_QUERY   \n",
       "\n",
       "                    user                                               text  \n",
       "0        _TheSpecialOne_       awww bummer shoulda got david carr third day  \n",
       "1          scotthamilton  upset update facebook texting might cry result...  \n",
       "2               mattycus  dived many times ball managed save 50 rest go ...  \n",
       "3                ElleCTF                   whole body feels itchy like fire  \n",
       "4                 Karoli                                   behaving mad see  \n",
       "...                  ...                                                ...  \n",
       "1599995  AmandaMarie1028                      woke school best feeling ever  \n",
       "1599996      TheWDBoards           thewdb com cool hear old walt interviews  \n",
       "1599997           bpbabe                    ready mojo makeover ask details  \n",
       "1599998     tinydiamondz  happy 38th birthday boo alll time tupac amaru ...  \n",
       "1599999   RyanTrevMorris  happy charitytuesday thenspcc sparkscharity sp...  \n",
       "\n",
       "[1600000 rows x 6 columns]"
      ]
     },
     "execution_count": 31,
     "metadata": {},
     "output_type": "execute_result"
    }
   ],
   "source": [
    "df"
   ]
  },
  {
   "cell_type": "markdown",
   "metadata": {
    "_uuid": "3f9a7bb129e184967b13261fb5d253af451c75c5"
   },
   "source": [
    "### Map target label to String\n",
    "* **0** -> **NEGATIVE**\n",
    "* **2** -> **NEUTRAL**\n",
    "* **4** -> **POSITIVE**"
   ]
  },
  {
   "cell_type": "code",
   "execution_count": 6,
   "metadata": {
    "_uuid": "14074b59106cb9550440839e48b832223fc9502f"
   },
   "outputs": [],
   "source": [
    "decodemap = {0: \"NEGATIVE\", 2: \"NEUTRAL\", 4: \"POSITIVE\"}\n",
    "def decodesentiment(label):\n",
    "    return decodemap[int(label)]"
   ]
  },
  {
   "cell_type": "code",
   "execution_count": 7,
   "metadata": {
    "_uuid": "4449d473187f647a195a6ac6986b009da32a7f4b"
   },
   "outputs": [
    {
     "name": "stdout",
     "output_type": "stream",
     "text": [
      "CPU times: user 483 ms, sys: 16.2 ms, total: 499 ms\n",
      "Wall time: 531 ms\n"
     ]
    }
   ],
   "source": [
    "%%time\n",
    "df['target'] = df['target'].apply(lambda x: decodesentiment(x))"
   ]
  },
  {
   "cell_type": "code",
   "execution_count": 8,
   "metadata": {
    "_uuid": "19eb327803192f31cce3512aacb232f4d6b38715"
   },
   "outputs": [
    {
     "data": {
      "text/plain": [
       "Text(0.5, 1.0, 'Distribuition of dataset labels')"
      ]
     },
     "execution_count": 8,
     "metadata": {},
     "output_type": "execute_result"
    },
    {
     "data": {
      "image/png": "[encoded data removed]",
      "text/plain": [
       "<Figure size 2000x800 with 1 Axes>"
      ]
     },
     "metadata": {},
     "output_type": "display_data"
    }
   ],
   "source": [
    "target_count = Counter(df['target'])\n",
    "\n",
    "plt.figure(figsize=(20,8))\n",
    "plt.bar(target_count.keys(), target_count.values())\n",
    "plt.title(\"Distribuition of dataset labels\")"
   ]
  },
  {
   "cell_type": "markdown",
   "metadata": {
    "_uuid": "4329b1573518b03e497213efa7676220734ebb4b"
   },
   "source": [
    "### Pre-Process dataset"
   ]
  },
  {
   "cell_type": "code",
   "execution_count": 9,
   "metadata": {
    "_uuid": "8aeee8b7b9ea11b749c7f91cd4787a7b50ed1a91"
   },
   "outputs": [],
   "source": [
    "stop_words_final = stopwords.words(\"english\")\n",
    "stemmer_final = SnowballStemmer(\"english\")"
   ]
  },
  {
   "cell_type": "code",
   "execution_count": 10,
   "metadata": {
    "_uuid": "649ebcb97969b9ac4301138783704bb3d7846a49"
   },
   "outputs": [],
   "source": [
    "def preprocess_dataset(text, stem=False):\n",
    "    # Remove link,user and special characters\n",
    "    text = re.sub(TEXT_CLEANING_RE, ' ', str(text).lower()).strip()\n",
    "    tokens = []\n",
    "    for token in text.split():\n",
    "        if token not in stop_words_final:\n",
    "            if stem:\n",
    "                tokens.append(stemmer_final.stem(token))\n",
    "            else:\n",
    "                tokens.append(token)\n",
    "    return \" \".join(tokens)"
   ]
  },
  {
   "cell_type": "code",
   "execution_count": 11,
   "metadata": {
    "_uuid": "f7f3e77ab9291d14687c49e71ba9b2b1e3323432"
   },
   "outputs": [
    {
     "name": "stdout",
     "output_type": "stream",
     "text": [
      "CPU times: user 59.9 s, sys: 277 ms, total: 1min\n",
      "Wall time: 1min\n"
     ]
    }
   ],
   "source": [
    "%%time\n",
    "df['text'] = df['text'].apply(lambda x: preprocess_dataset(x))"
   ]
  },
  {
   "cell_type": "markdown",
   "metadata": {
    "_uuid": "f5f9714a8507409bbe780eebf2855a33e8e6ba37"
   },
   "source": [
    "### Split train and test"
   ]
  },
  {
   "cell_type": "code",
   "execution_count": 12,
   "metadata": {
    "_uuid": "d2b1179c968e3f3910c790ecf0c5b2cbb34b0e68"
   },
   "outputs": [
    {
     "name": "stdout",
     "output_type": "stream",
     "text": [
      "TRAIN size: 1280000\n",
      "TEST size: 320000\n"
     ]
    }
   ],
   "source": [
    "traindf, testdf = train_test_split(df, test_size=1-TRAINSIZE, random_state=None)\n",
    "print(\"TRAIN size:\", len(traindf))\n",
    "print(\"TEST size:\", len(testdf))"
   ]
  },
  {
   "cell_type": "markdown",
   "metadata": {
    "_uuid": "f08a28aab2c3d16d8b9681a7d5d07587153a1cd6"
   },
   "source": [
    "### Word2Vec "
   ]
  },
  {
   "cell_type": "code",
   "execution_count": 13,
   "metadata": {
    "_uuid": "2461bf564de1b4414841933d0c1d1bee5f5cc5a6"
   },
   "outputs": [
    {
     "name": "stdout",
     "output_type": "stream",
     "text": [
      "CPU times: user 3.61 s, sys: 241 ms, total: 3.85 s\n",
      "Wall time: 3.88 s\n"
     ]
    }
   ],
   "source": [
    "%%time\n",
    "documents_final = [_text.split() for _text in traindf.text] "
   ]
  },
  {
   "cell_type": "code",
   "execution_count": 14,
   "metadata": {
    "_uuid": "8e19b9f25801ba86420decc266d2b3e6fb44f1ea"
   },
   "outputs": [
    {
     "name": "stderr",
     "output_type": "stream",
     "text": [
      "2022-12-13 19:30:10,528 : INFO : Word2Vec lifecycle event {'params': 'Word2Vec<vocab=0, vector_size=500, alpha=0.025>', 'datetime': '2022-12-13T19:30:10.528656', 'gensim': '4.2.0', 'python': '3.10.5 (v3.10.5:f377153967, Jun  6 2022, 12:36:10) [Clang 13.0.0 (clang-1300.0.29.30)]', 'platform': 'macOS-12.6.1-x86_64-i386-64bit', 'event': 'created'}\n"
     ]
    }
   ],
   "source": [
    "W2VMODEL_final = gensim.models.word2vec.Word2Vec(vector_size=SIZE_W2V,\n",
    "                                            window=WINDOW_W2V, \n",
    "                                            min_count=MIN_COUNT_W2V, \n",
    "                                            workers=8)"
   ]
  },
  {
   "cell_type": "code",
   "execution_count": 15,
   "metadata": {
    "_uuid": "58d655af07653c594bec6bebcfb302a973b0ad9c"
   },
   "outputs": [
    {
     "name": "stderr",
     "output_type": "stream",
     "text": [
      "2022-12-13 19:30:10,542 : INFO : collecting all words and their counts\n",
      "2022-12-13 19:30:10,545 : INFO : PROGRESS: at sentence #0, processed 0 words, keeping 0 word types\n",
      "2022-12-13 19:30:10,588 : INFO : PROGRESS: at sentence #10000, processed 71940 words, keeping 13917 word types\n",
      "2022-12-13 19:30:10,630 : INFO : PROGRESS: at sentence #20000, processed 144681 words, keeping 21556 word types\n",
      "2022-12-13 19:30:10,664 : INFO : PROGRESS: at sentence #30000, processed 216925 words, keeping 27523 word types\n",
      "2022-12-13 19:30:10,692 : INFO : PROGRESS: at sentence #40000, processed 289003 words, keeping 32887 word types\n",
      "2022-12-13 19:30:10,718 : INFO : PROGRESS: at sentence #50000, processed 361306 words, keeping 37585 word types\n",
      "2022-12-13 19:30:10,745 : INFO : PROGRESS: at sentence #60000, processed 433345 words, keeping 42113 word types\n",
      "2022-12-13 19:30:10,780 : INFO : PROGRESS: at sentence #70000, processed 504968 words, keeping 46345 word types\n",
      "2022-12-13 19:30:10,814 : INFO : PROGRESS: at sentence #80000, processed 576879 words, keeping 50283 word types\n",
      "2022-12-13 19:30:10,838 : INFO : PROGRESS: at sentence #90000, processed 648649 words, keeping 54084 word types\n",
      "2022-12-13 19:30:10,866 : INFO : PROGRESS: at sentence #100000, processed 721518 words, keeping 57974 word types\n",
      "2022-12-13 19:30:10,897 : INFO : PROGRESS: at sentence #110000, processed 793718 words, keeping 61470 word types\n",
      "2022-12-13 19:30:10,928 : INFO : PROGRESS: at sentence #120000, processed 865236 words, keeping 64940 word types\n",
      "2022-12-13 19:30:10,957 : INFO : PROGRESS: at sentence #130000, processed 936765 words, keeping 68323 word types\n",
      "2022-12-13 19:30:10,988 : INFO : PROGRESS: at sentence #140000, processed 1008497 words, keeping 71534 word types\n",
      "2022-12-13 19:30:11,020 : INFO : PROGRESS: at sentence #150000, processed 1080567 words, keeping 74801 word types\n",
      "2022-12-13 19:30:11,052 : INFO : PROGRESS: at sentence #160000, processed 1152505 words, keeping 77915 word types\n",
      "2022-12-13 19:30:11,084 : INFO : PROGRESS: at sentence #170000, processed 1224832 words, keeping 80834 word types\n",
      "2022-12-13 19:30:11,116 : INFO : PROGRESS: at sentence #180000, processed 1296345 words, keeping 83822 word types\n",
      "2022-12-13 19:30:11,148 : INFO : PROGRESS: at sentence #190000, processed 1368428 words, keeping 86658 word types\n",
      "2022-12-13 19:30:11,182 : INFO : PROGRESS: at sentence #200000, processed 1440707 words, keeping 89482 word types\n",
      "2022-12-13 19:30:11,213 : INFO : PROGRESS: at sentence #210000, processed 1513214 words, keeping 92233 word types\n",
      "2022-12-13 19:30:11,248 : INFO : PROGRESS: at sentence #220000, processed 1584757 words, keeping 94912 word types\n",
      "2022-12-13 19:30:11,280 : INFO : PROGRESS: at sentence #230000, processed 1657280 words, keeping 97797 word types\n",
      "2022-12-13 19:30:11,306 : INFO : PROGRESS: at sentence #240000, processed 1729464 words, keeping 100395 word types\n",
      "2022-12-13 19:30:11,334 : INFO : PROGRESS: at sentence #250000, processed 1800854 words, keeping 102905 word types\n",
      "2022-12-13 19:30:11,361 : INFO : PROGRESS: at sentence #260000, processed 1873280 words, keeping 105439 word types\n",
      "2022-12-13 19:30:11,392 : INFO : PROGRESS: at sentence #270000, processed 1946139 words, keeping 107975 word types\n",
      "2022-12-13 19:30:11,421 : INFO : PROGRESS: at sentence #280000, processed 2018851 words, keeping 110525 word types\n",
      "2022-12-13 19:30:11,453 : INFO : PROGRESS: at sentence #290000, processed 2090632 words, keeping 112986 word types\n",
      "2022-12-13 19:30:11,487 : INFO : PROGRESS: at sentence #300000, processed 2162645 words, keeping 115448 word types\n",
      "2022-12-13 19:30:11,520 : INFO : PROGRESS: at sentence #310000, processed 2235351 words, keeping 117863 word types\n",
      "2022-12-13 19:30:11,552 : INFO : PROGRESS: at sentence #320000, processed 2306930 words, keeping 120161 word types\n",
      "2022-12-13 19:30:11,585 : INFO : PROGRESS: at sentence #330000, processed 2378910 words, keeping 122575 word types\n",
      "2022-12-13 19:30:11,617 : INFO : PROGRESS: at sentence #340000, processed 2451033 words, keeping 124927 word types\n",
      "2022-12-13 19:30:11,652 : INFO : PROGRESS: at sentence #350000, processed 2522623 words, keeping 127191 word types\n",
      "2022-12-13 19:30:11,680 : INFO : PROGRESS: at sentence #360000, processed 2595102 words, keeping 129487 word types\n",
      "2022-12-13 19:30:11,705 : INFO : PROGRESS: at sentence #370000, processed 2666870 words, keeping 131759 word types\n",
      "2022-12-13 19:30:11,732 : INFO : PROGRESS: at sentence #380000, processed 2739324 words, keeping 134025 word types\n",
      "2022-12-13 19:30:11,764 : INFO : PROGRESS: at sentence #390000, processed 2811435 words, keeping 136348 word types\n",
      "2022-12-13 19:30:11,795 : INFO : PROGRESS: at sentence #400000, processed 2883012 words, keeping 138529 word types\n",
      "2022-12-13 19:30:11,826 : INFO : PROGRESS: at sentence #410000, processed 2955715 words, keeping 140769 word types\n",
      "2022-12-13 19:30:11,858 : INFO : PROGRESS: at sentence #420000, processed 3027721 words, keeping 142898 word types\n",
      "2022-12-13 19:30:11,889 : INFO : PROGRESS: at sentence #430000, processed 3099951 words, keeping 145141 word types\n",
      "2022-12-13 19:30:11,922 : INFO : PROGRESS: at sentence #440000, processed 3171663 words, keeping 147244 word types\n",
      "2022-12-13 19:30:11,954 : INFO : PROGRESS: at sentence #450000, processed 3243171 words, keeping 149363 word types\n",
      "2022-12-13 19:30:11,987 : INFO : PROGRESS: at sentence #460000, processed 3315317 words, keeping 151435 word types\n",
      "2022-12-13 19:30:12,021 : INFO : PROGRESS: at sentence #470000, processed 3388037 words, keeping 153588 word types\n",
      "2022-12-13 19:30:12,055 : INFO : PROGRESS: at sentence #480000, processed 3460469 words, keeping 155757 word types\n",
      "2022-12-13 19:30:12,086 : INFO : PROGRESS: at sentence #490000, processed 3532147 words, keeping 157732 word types\n",
      "2022-12-13 19:30:12,119 : INFO : PROGRESS: at sentence #500000, processed 3604644 words, keeping 159654 word types\n",
      "2022-12-13 19:30:12,151 : INFO : PROGRESS: at sentence #510000, processed 3677561 words, keeping 161676 word types\n",
      "2022-12-13 19:30:12,183 : INFO : PROGRESS: at sentence #520000, processed 3749243 words, keeping 163631 word types\n",
      "2022-12-13 19:30:12,210 : INFO : PROGRESS: at sentence #530000, processed 3821030 words, keeping 165680 word types\n",
      "2022-12-13 19:30:12,242 : INFO : PROGRESS: at sentence #540000, processed 3893228 words, keeping 167635 word types\n",
      "2022-12-13 19:30:12,274 : INFO : PROGRESS: at sentence #550000, processed 3965850 words, keeping 169588 word types\n",
      "2022-12-13 19:30:12,306 : INFO : PROGRESS: at sentence #560000, processed 4037939 words, keeping 171553 word types\n",
      "2022-12-13 19:30:12,338 : INFO : PROGRESS: at sentence #570000, processed 4110197 words, keeping 173435 word types\n",
      "2022-12-13 19:30:12,377 : INFO : PROGRESS: at sentence #580000, processed 4182214 words, keeping 175349 word types\n",
      "2022-12-13 19:30:12,409 : INFO : PROGRESS: at sentence #590000, processed 4254609 words, keeping 177273 word types\n",
      "2022-12-13 19:30:12,440 : INFO : PROGRESS: at sentence #600000, processed 4326823 words, keeping 179207 word types\n",
      "2022-12-13 19:30:12,467 : INFO : PROGRESS: at sentence #610000, processed 4398369 words, keeping 181030 word types\n",
      "2022-12-13 19:30:12,500 : INFO : PROGRESS: at sentence #620000, processed 4470452 words, keeping 182904 word types\n",
      "2022-12-13 19:30:12,526 : INFO : PROGRESS: at sentence #630000, processed 4542480 words, keeping 184859 word types\n",
      "2022-12-13 19:30:12,554 : INFO : PROGRESS: at sentence #640000, processed 4614197 words, keeping 186701 word types\n",
      "2022-12-13 19:30:12,588 : INFO : PROGRESS: at sentence #650000, processed 4686389 words, keeping 188502 word types\n",
      "2022-12-13 19:30:12,620 : INFO : PROGRESS: at sentence #660000, processed 4759220 words, keeping 190290 word types\n",
      "2022-12-13 19:30:12,665 : INFO : PROGRESS: at sentence #670000, processed 4830875 words, keeping 192063 word types\n",
      "2022-12-13 19:30:12,710 : INFO : PROGRESS: at sentence #680000, processed 4902925 words, keeping 193830 word types\n",
      "2022-12-13 19:30:12,740 : INFO : PROGRESS: at sentence #690000, processed 4974677 words, keeping 195684 word types\n",
      "2022-12-13 19:30:12,765 : INFO : PROGRESS: at sentence #700000, processed 5046253 words, keeping 197526 word types\n",
      "2022-12-13 19:30:12,804 : INFO : PROGRESS: at sentence #710000, processed 5118580 words, keeping 199311 word types\n"
     ]
    },
    {
     "name": "stderr",
     "output_type": "stream",
     "text": [
      "2022-12-13 19:30:12,847 : INFO : PROGRESS: at sentence #720000, processed 5191293 words, keeping 201043 word types\n",
      "2022-12-13 19:30:12,886 : INFO : PROGRESS: at sentence #730000, processed 5264053 words, keeping 202854 word types\n",
      "2022-12-13 19:30:12,946 : INFO : PROGRESS: at sentence #740000, processed 5335976 words, keeping 204613 word types\n",
      "2022-12-13 19:30:12,997 : INFO : PROGRESS: at sentence #750000, processed 5408457 words, keeping 206322 word types\n",
      "2022-12-13 19:30:13,026 : INFO : PROGRESS: at sentence #760000, processed 5480341 words, keeping 208152 word types\n",
      "2022-12-13 19:30:13,061 : INFO : PROGRESS: at sentence #770000, processed 5552715 words, keeping 209914 word types\n",
      "2022-12-13 19:30:13,101 : INFO : PROGRESS: at sentence #780000, processed 5624059 words, keeping 211618 word types\n",
      "2022-12-13 19:30:13,127 : INFO : PROGRESS: at sentence #790000, processed 5695945 words, keeping 213320 word types\n",
      "2022-12-13 19:30:13,165 : INFO : PROGRESS: at sentence #800000, processed 5768277 words, keeping 215121 word types\n",
      "2022-12-13 19:30:13,194 : INFO : PROGRESS: at sentence #810000, processed 5840894 words, keeping 216908 word types\n",
      "2022-12-13 19:30:13,234 : INFO : PROGRESS: at sentence #820000, processed 5912581 words, keeping 218614 word types\n",
      "2022-12-13 19:30:13,269 : INFO : PROGRESS: at sentence #830000, processed 5985410 words, keeping 220275 word types\n",
      "2022-12-13 19:30:13,321 : INFO : PROGRESS: at sentence #840000, processed 6057723 words, keeping 221962 word types\n",
      "2022-12-13 19:30:13,364 : INFO : PROGRESS: at sentence #850000, processed 6129679 words, keeping 223589 word types\n",
      "2022-12-13 19:30:13,406 : INFO : PROGRESS: at sentence #860000, processed 6202205 words, keeping 225265 word types\n",
      "2022-12-13 19:30:13,450 : INFO : PROGRESS: at sentence #870000, processed 6274871 words, keeping 226974 word types\n",
      "2022-12-13 19:30:13,478 : INFO : PROGRESS: at sentence #880000, processed 6346809 words, keeping 228696 word types\n",
      "2022-12-13 19:30:13,517 : INFO : PROGRESS: at sentence #890000, processed 6418508 words, keeping 230336 word types\n",
      "2022-12-13 19:30:13,566 : INFO : PROGRESS: at sentence #900000, processed 6490595 words, keeping 232021 word types\n",
      "2022-12-13 19:30:13,609 : INFO : PROGRESS: at sentence #910000, processed 6563095 words, keeping 233702 word types\n",
      "2022-12-13 19:30:13,657 : INFO : PROGRESS: at sentence #920000, processed 6634998 words, keeping 235390 word types\n",
      "2022-12-13 19:30:13,695 : INFO : PROGRESS: at sentence #930000, processed 6707275 words, keeping 237000 word types\n",
      "2022-12-13 19:30:13,721 : INFO : PROGRESS: at sentence #940000, processed 6779521 words, keeping 238661 word types\n",
      "2022-12-13 19:30:13,750 : INFO : PROGRESS: at sentence #950000, processed 6851382 words, keeping 240311 word types\n",
      "2022-12-13 19:30:13,790 : INFO : PROGRESS: at sentence #960000, processed 6923921 words, keeping 241895 word types\n",
      "2022-12-13 19:30:13,828 : INFO : PROGRESS: at sentence #970000, processed 6995124 words, keeping 243459 word types\n",
      "2022-12-13 19:30:13,867 : INFO : PROGRESS: at sentence #980000, processed 7067305 words, keeping 245010 word types\n",
      "2022-12-13 19:30:13,900 : INFO : PROGRESS: at sentence #990000, processed 7139156 words, keeping 246675 word types\n",
      "2022-12-13 19:30:13,944 : INFO : PROGRESS: at sentence #1000000, processed 7210762 words, keeping 248231 word types\n",
      "2022-12-13 19:30:13,971 : INFO : PROGRESS: at sentence #1010000, processed 7283320 words, keeping 249876 word types\n",
      "2022-12-13 19:30:14,014 : INFO : PROGRESS: at sentence #1020000, processed 7354699 words, keeping 251441 word types\n",
      "2022-12-13 19:30:14,062 : INFO : PROGRESS: at sentence #1030000, processed 7427202 words, keeping 253046 word types\n",
      "2022-12-13 19:30:14,096 : INFO : PROGRESS: at sentence #1040000, processed 7499139 words, keeping 254613 word types\n",
      "2022-12-13 19:30:14,140 : INFO : PROGRESS: at sentence #1050000, processed 7570800 words, keeping 256225 word types\n",
      "2022-12-13 19:30:14,168 : INFO : PROGRESS: at sentence #1060000, processed 7642736 words, keeping 257745 word types\n",
      "2022-12-13 19:30:14,213 : INFO : PROGRESS: at sentence #1070000, processed 7714364 words, keeping 259315 word types\n",
      "2022-12-13 19:30:14,259 : INFO : PROGRESS: at sentence #1080000, processed 7786736 words, keeping 260780 word types\n",
      "2022-12-13 19:30:14,309 : INFO : PROGRESS: at sentence #1090000, processed 7859017 words, keeping 262306 word types\n",
      "2022-12-13 19:30:14,414 : INFO : PROGRESS: at sentence #1100000, processed 7931008 words, keeping 263757 word types\n",
      "2022-12-13 19:30:14,450 : INFO : PROGRESS: at sentence #1110000, processed 8002852 words, keeping 265386 word types\n",
      "2022-12-13 19:30:14,476 : INFO : PROGRESS: at sentence #1120000, processed 8074981 words, keeping 266886 word types\n",
      "2022-12-13 19:30:14,513 : INFO : PROGRESS: at sentence #1130000, processed 8146856 words, keeping 268406 word types\n",
      "2022-12-13 19:30:14,540 : INFO : PROGRESS: at sentence #1140000, processed 8218946 words, keeping 269926 word types\n",
      "2022-12-13 19:30:14,570 : INFO : PROGRESS: at sentence #1150000, processed 8290550 words, keeping 271389 word types\n",
      "2022-12-13 19:30:14,596 : INFO : PROGRESS: at sentence #1160000, processed 8362996 words, keeping 272867 word types\n",
      "2022-12-13 19:30:14,626 : INFO : PROGRESS: at sentence #1170000, processed 8435064 words, keeping 274380 word types\n",
      "2022-12-13 19:30:14,658 : INFO : PROGRESS: at sentence #1180000, processed 8507400 words, keeping 275903 word types\n",
      "2022-12-13 19:30:14,688 : INFO : PROGRESS: at sentence #1190000, processed 8579551 words, keeping 277453 word types\n",
      "2022-12-13 19:30:14,719 : INFO : PROGRESS: at sentence #1200000, processed 8651542 words, keeping 278914 word types\n",
      "2022-12-13 19:30:14,756 : INFO : PROGRESS: at sentence #1210000, processed 8722889 words, keeping 280386 word types\n",
      "2022-12-13 19:30:14,791 : INFO : PROGRESS: at sentence #1220000, processed 8795735 words, keeping 281907 word types\n",
      "2022-12-13 19:30:14,919 : INFO : PROGRESS: at sentence #1230000, processed 8867164 words, keeping 283349 word types\n",
      "2022-12-13 19:30:14,963 : INFO : PROGRESS: at sentence #1240000, processed 8938414 words, keeping 284753 word types\n",
      "2022-12-13 19:30:14,997 : INFO : PROGRESS: at sentence #1250000, processed 9010091 words, keeping 286192 word types\n",
      "2022-12-13 19:30:15,029 : INFO : PROGRESS: at sentence #1260000, processed 9082116 words, keeping 287644 word types\n",
      "2022-12-13 19:30:15,060 : INFO : PROGRESS: at sentence #1270000, processed 9154288 words, keeping 289032 word types\n",
      "2022-12-13 19:30:15,090 : INFO : collected 290548 word types from a corpus of 9226989 raw words and 1280000 sentences\n",
      "2022-12-13 19:30:15,091 : INFO : Creating a fresh vocabulary\n",
      "2022-12-13 19:30:15,316 : INFO : Word2Vec lifecycle event {'msg': 'effective_min_count=15 retains 23505 unique words (8.09% of original 290548, drops 267043)', 'datetime': '2022-12-13T19:30:15.316263', 'gensim': '4.2.0', 'python': '3.10.5 (v3.10.5:f377153967, Jun  6 2022, 12:36:10) [Clang 13.0.0 (clang-1300.0.29.30)]', 'platform': 'macOS-12.6.1-x86_64-i386-64bit', 'event': 'prepare_vocab'}\n",
      "2022-12-13 19:30:15,317 : INFO : Word2Vec lifecycle event {'msg': 'effective_min_count=15 leaves 8699918 word corpus (94.29% of original 9226989, drops 527071)', 'datetime': '2022-12-13T19:30:15.317144', 'gensim': '4.2.0', 'python': '3.10.5 (v3.10.5:f377153967, Jun  6 2022, 12:36:10) [Clang 13.0.0 (clang-1300.0.29.30)]', 'platform': 'macOS-12.6.1-x86_64-i386-64bit', 'event': 'prepare_vocab'}\n",
      "2022-12-13 19:30:15,463 : INFO : deleting the raw counts dictionary of 290548 items\n",
      "2022-12-13 19:30:15,470 : INFO : sample=0.001 downsamples 45 most-common words\n",
      "2022-12-13 19:30:15,471 : INFO : Word2Vec lifecycle event {'msg': 'downsampling leaves estimated 8134891.42643355 word corpus (93.5%% of prior 8699918)', 'datetime': '2022-12-13T19:30:15.471716', 'gensim': '4.2.0', 'python': '3.10.5 (v3.10.5:f377153967, Jun  6 2022, 12:36:10) [Clang 13.0.0 (clang-1300.0.29.30)]', 'platform': 'macOS-12.6.1-x86_64-i386-64bit', 'event': 'prepare_vocab'}\n",
      "2022-12-13 19:30:15,701 : INFO : estimated required memory for 23505 words and 500 dimensions: 105772500 bytes\n",
      "2022-12-13 19:30:15,702 : INFO : resetting layer weights\n",
      "2022-12-13 19:30:15,763 : INFO : Word2Vec lifecycle event {'update': False, 'trim_rule': 'None', 'datetime': '2022-12-13T19:30:15.763142', 'gensim': '4.2.0', 'python': '3.10.5 (v3.10.5:f377153967, Jun  6 2022, 12:36:10) [Clang 13.0.0 (clang-1300.0.29.30)]', 'platform': 'macOS-12.6.1-x86_64-i386-64bit', 'event': 'build_vocab'}\n"
     ]
    }
   ],
   "source": [
    "W2VMODEL_final.build_vocab(documents_final)"
   ]
  },
  {
   "cell_type": "code",
   "execution_count": 16,
   "metadata": {
    "_uuid": "72a5628ca81fd4b8983c12d93ae0bf950b86b6ae"
   },
   "outputs": [
    {
     "name": "stdout",
     "output_type": "stream",
     "text": [
      "Vocab size 23505\n"
     ]
    }
   ],
   "source": [
    "#words = w2v_model.wv.vocab.keys()\n",
    "words_final = list(W2VMODEL_final.wv.key_to_index.keys())\n",
    "vocab_size_final = len(words_final)\n",
    "print(\"Vocab size\", vocab_size_final)"
   ]
  },
  {
   "cell_type": "code",
   "execution_count": 17,
   "metadata": {
    "_uuid": "68c3e4a5ba07cac3dee67f78ecdd1404c7f83f14"
   },
   "outputs": [
    {
     "name": "stderr",
     "output_type": "stream",
     "text": [
      "2022-12-13 19:30:15,787 : INFO : Word2Vec lifecycle event {'msg': 'training model with 8 workers on 23505 vocabulary and 500 features, using sg=0 hs=0 sample=0.001 negative=5 window=10 shrink_windows=True', 'datetime': '2022-12-13T19:30:15.787785', 'gensim': '4.2.0', 'python': '3.10.5 (v3.10.5:f377153967, Jun  6 2022, 12:36:10) [Clang 13.0.0 (clang-1300.0.29.30)]', 'platform': 'macOS-12.6.1-x86_64-i386-64bit', 'event': 'train'}\n",
      "2022-12-13 19:30:16,815 : INFO : EPOCH 0 - PROGRESS: at 6.50% examples, 524708 words/s, in_qsize 15, out_qsize 0\n",
      "2022-12-13 19:30:17,822 : INFO : EPOCH 0 - PROGRESS: at 13.88% examples, 559648 words/s, in_qsize 15, out_qsize 0\n",
      "2022-12-13 19:30:18,864 : INFO : EPOCH 0 - PROGRESS: at 21.24% examples, 565107 words/s, in_qsize 14, out_qsize 1\n",
      "2022-12-13 19:30:19,870 : INFO : EPOCH 0 - PROGRESS: at 28.17% examples, 563870 words/s, in_qsize 14, out_qsize 1\n",
      "2022-12-13 19:30:20,886 : INFO : EPOCH 0 - PROGRESS: at 35.76% examples, 572538 words/s, in_qsize 16, out_qsize 1\n",
      "2022-12-13 19:30:21,888 : INFO : EPOCH 0 - PROGRESS: at 43.10% examples, 576701 words/s, in_qsize 15, out_qsize 0\n",
      "2022-12-13 19:30:22,899 : INFO : EPOCH 0 - PROGRESS: at 50.26% examples, 576526 words/s, in_qsize 14, out_qsize 1\n",
      "2022-12-13 19:30:23,911 : INFO : EPOCH 0 - PROGRESS: at 57.62% examples, 578562 words/s, in_qsize 15, out_qsize 0\n",
      "2022-12-13 19:30:24,923 : INFO : EPOCH 0 - PROGRESS: at 64.97% examples, 579967 words/s, in_qsize 13, out_qsize 2\n",
      "2022-12-13 19:30:25,925 : INFO : EPOCH 0 - PROGRESS: at 72.22% examples, 580963 words/s, in_qsize 15, out_qsize 1\n",
      "2022-12-13 19:30:26,949 : INFO : EPOCH 0 - PROGRESS: at 79.71% examples, 582135 words/s, in_qsize 15, out_qsize 0\n",
      "2022-12-13 19:30:27,957 : INFO : EPOCH 0 - PROGRESS: at 86.33% examples, 578133 words/s, in_qsize 15, out_qsize 0\n",
      "2022-12-13 19:30:29,034 : INFO : EPOCH 0 - PROGRESS: at 94.14% examples, 579031 words/s, in_qsize 15, out_qsize 0\n",
      "2022-12-13 19:30:29,761 : INFO : EPOCH 0: training on 9226989 raw words (8134407 effective words) took 14.0s, 582984 effective words/s\n",
      "2022-12-13 19:30:30,781 : INFO : EPOCH 1 - PROGRESS: at 7.04% examples, 568723 words/s, in_qsize 15, out_qsize 0\n",
      "2022-12-13 19:30:31,808 : INFO : EPOCH 1 - PROGRESS: at 14.20% examples, 567195 words/s, in_qsize 15, out_qsize 0\n",
      "2022-12-13 19:30:32,840 : INFO : EPOCH 1 - PROGRESS: at 21.77% examples, 577601 words/s, in_qsize 15, out_qsize 0\n",
      "2022-12-13 19:30:33,868 : INFO : EPOCH 1 - PROGRESS: at 29.25% examples, 581115 words/s, in_qsize 15, out_qsize 0\n",
      "2022-12-13 19:30:34,877 : INFO : EPOCH 1 - PROGRESS: at 36.51% examples, 581839 words/s, in_qsize 15, out_qsize 0\n",
      "2022-12-13 19:30:35,905 : INFO : EPOCH 1 - PROGRESS: at 44.08% examples, 584859 words/s, in_qsize 15, out_qsize 0\n",
      "2022-12-13 19:30:36,913 : INFO : EPOCH 1 - PROGRESS: at 51.23% examples, 583755 words/s, in_qsize 14, out_qsize 2\n",
      "2022-12-13 19:30:37,916 : INFO : EPOCH 1 - PROGRESS: at 59.13% examples, 590909 words/s, in_qsize 15, out_qsize 0\n",
      "2022-12-13 19:30:38,920 : INFO : EPOCH 1 - PROGRESS: at 66.05% examples, 587665 words/s, in_qsize 15, out_qsize 0\n",
      "2022-12-13 19:30:39,930 : INFO : EPOCH 1 - PROGRESS: at 73.09% examples, 585649 words/s, in_qsize 15, out_qsize 0\n",
      "2022-12-13 19:30:40,937 : INFO : EPOCH 1 - PROGRESS: at 80.68% examples, 588062 words/s, in_qsize 13, out_qsize 2\n",
      "2022-12-13 19:30:41,943 : INFO : EPOCH 1 - PROGRESS: at 87.73% examples, 586553 words/s, in_qsize 15, out_qsize 1\n",
      "2022-12-13 19:30:42,945 : INFO : EPOCH 1 - PROGRESS: at 94.90% examples, 586109 words/s, in_qsize 14, out_qsize 1\n",
      "2022-12-13 19:30:43,568 : INFO : EPOCH 1: training on 9226989 raw words (8133629 effective words) took 13.8s, 589664 effective words/s\n",
      "2022-12-13 19:30:44,596 : INFO : EPOCH 2 - PROGRESS: at 6.71% examples, 538411 words/s, in_qsize 15, out_qsize 0\n",
      "2022-12-13 19:30:45,603 : INFO : EPOCH 2 - PROGRESS: at 13.88% examples, 557760 words/s, in_qsize 15, out_qsize 1\n",
      "2022-12-13 19:30:46,629 : INFO : EPOCH 2 - PROGRESS: at 21.35% examples, 569583 words/s, in_qsize 13, out_qsize 2\n",
      "2022-12-13 19:30:47,638 : INFO : EPOCH 2 - PROGRESS: at 28.60% examples, 573540 words/s, in_qsize 14, out_qsize 1\n",
      "2022-12-13 19:30:48,640 : INFO : EPOCH 2 - PROGRESS: at 35.65% examples, 573086 words/s, in_qsize 15, out_qsize 3\n",
      "2022-12-13 19:30:49,641 : INFO : EPOCH 2 - PROGRESS: at 43.21% examples, 580277 words/s, in_qsize 13, out_qsize 2\n",
      "2022-12-13 19:30:50,705 : INFO : EPOCH 2 - PROGRESS: at 50.80% examples, 580190 words/s, in_qsize 15, out_qsize 0\n",
      "2022-12-13 19:30:51,747 : INFO : EPOCH 2 - PROGRESS: at 58.26% examples, 580727 words/s, in_qsize 15, out_qsize 0\n",
      "2022-12-13 19:30:52,754 : INFO : EPOCH 2 - PROGRESS: at 65.51% examples, 581320 words/s, in_qsize 15, out_qsize 0\n",
      "2022-12-13 19:30:53,764 : INFO : EPOCH 2 - PROGRESS: at 72.87% examples, 582513 words/s, in_qsize 14, out_qsize 1\n",
      "2022-12-13 19:30:54,784 : INFO : EPOCH 2 - PROGRESS: at 80.25% examples, 582998 words/s, in_qsize 15, out_qsize 0\n",
      "2022-12-13 19:30:55,786 : INFO : EPOCH 2 - PROGRESS: at 87.52% examples, 583510 words/s, in_qsize 15, out_qsize 0\n",
      "2022-12-13 19:30:56,786 : INFO : EPOCH 2 - PROGRESS: at 94.79% examples, 584033 words/s, in_qsize 15, out_qsize 0\n",
      "2022-12-13 19:30:57,443 : INFO : EPOCH 2: training on 9226989 raw words (8135941 effective words) took 13.9s, 586926 effective words/s\n",
      "2022-12-13 19:30:58,463 : INFO : EPOCH 3 - PROGRESS: at 6.71% examples, 542845 words/s, in_qsize 14, out_qsize 1\n",
      "2022-12-13 19:30:59,469 : INFO : EPOCH 3 - PROGRESS: at 14.21% examples, 573378 words/s, in_qsize 13, out_qsize 2\n",
      "2022-12-13 19:31:00,484 : INFO : EPOCH 3 - PROGRESS: at 21.45% examples, 576353 words/s, in_qsize 16, out_qsize 0\n",
      "2022-12-13 19:31:01,494 : INFO : EPOCH 3 - PROGRESS: at 28.60% examples, 576255 words/s, in_qsize 16, out_qsize 0\n",
      "2022-12-13 19:31:02,508 : INFO : EPOCH 3 - PROGRESS: at 36.29% examples, 584353 words/s, in_qsize 15, out_qsize 0\n",
      "2022-12-13 19:31:03,524 : INFO : EPOCH 3 - PROGRESS: at 43.43% examples, 582386 words/s, in_qsize 16, out_qsize 1\n",
      "2022-12-13 19:31:04,526 : INFO : EPOCH 3 - PROGRESS: at 50.69% examples, 583320 words/s, in_qsize 15, out_qsize 1\n",
      "2022-12-13 19:31:05,533 : INFO : EPOCH 3 - PROGRESS: at 57.94% examples, 583734 words/s, in_qsize 15, out_qsize 0\n",
      "2022-12-13 19:31:06,536 : INFO : EPOCH 3 - PROGRESS: at 65.30% examples, 585230 words/s, in_qsize 15, out_qsize 0\n",
      "2022-12-13 19:31:07,538 : INFO : EPOCH 3 - PROGRESS: at 72.66% examples, 586507 words/s, in_qsize 14, out_qsize 1\n",
      "2022-12-13 19:31:08,543 : INFO : EPOCH 3 - PROGRESS: at 79.71% examples, 585075 words/s, in_qsize 15, out_qsize 1\n",
      "2022-12-13 19:31:09,544 : INFO : EPOCH 3 - PROGRESS: at 86.98% examples, 585431 words/s, in_qsize 13, out_qsize 0\n",
      "2022-12-13 19:31:10,559 : INFO : EPOCH 3 - PROGRESS: at 94.35% examples, 585850 words/s, in_qsize 16, out_qsize 0\n",
      "2022-12-13 19:31:11,273 : INFO : EPOCH 3: training on 9226989 raw words (8134735 effective words) took 13.8s, 588757 effective words/s\n",
      "2022-12-13 19:31:12,303 : INFO : EPOCH 4 - PROGRESS: at 6.71% examples, 536818 words/s, in_qsize 14, out_qsize 1\n",
      "2022-12-13 19:31:13,311 : INFO : EPOCH 4 - PROGRESS: at 14.10% examples, 565345 words/s, in_qsize 15, out_qsize 0\n",
      "2022-12-13 19:31:14,332 : INFO : EPOCH 4 - PROGRESS: at 21.45% examples, 572669 words/s, in_qsize 15, out_qsize 0\n",
      "2022-12-13 19:31:15,342 : INFO : EPOCH 4 - PROGRESS: at 28.71% examples, 575712 words/s, in_qsize 15, out_qsize 0\n",
      "2022-12-13 19:31:16,347 : INFO : EPOCH 4 - PROGRESS: at 35.76% examples, 574379 words/s, in_qsize 14, out_qsize 1\n",
      "2022-12-13 19:31:17,387 : INFO : EPOCH 4 - PROGRESS: at 43.54% examples, 580523 words/s, in_qsize 15, out_qsize 0\n",
      "2022-12-13 19:31:18,407 : INFO : EPOCH 4 - PROGRESS: at 50.91% examples, 581567 words/s, in_qsize 16, out_qsize 1\n",
      "2022-12-13 19:31:19,411 : INFO : EPOCH 4 - PROGRESS: at 57.83% examples, 579215 words/s, in_qsize 15, out_qsize 0\n",
      "2022-12-13 19:31:20,437 : INFO : EPOCH 4 - PROGRESS: at 65.08% examples, 578768 words/s, in_qsize 13, out_qsize 2\n",
      "2022-12-13 19:31:21,443 : INFO : EPOCH 4 - PROGRESS: at 72.76% examples, 583000 words/s, in_qsize 15, out_qsize 0\n",
      "2022-12-13 19:31:22,456 : INFO : EPOCH 4 - PROGRESS: at 79.93% examples, 582243 words/s, in_qsize 15, out_qsize 0\n",
      "2022-12-13 19:31:23,463 : INFO : EPOCH 4 - PROGRESS: at 86.98% examples, 581144 words/s, in_qsize 16, out_qsize 0\n"
     ]
    },
    {
     "name": "stderr",
     "output_type": "stream",
     "text": [
      "2022-12-13 19:31:24,481 : INFO : EPOCH 4 - PROGRESS: at 94.46% examples, 582374 words/s, in_qsize 15, out_qsize 0\n",
      "2022-12-13 19:31:25,199 : INFO : EPOCH 4: training on 9226989 raw words (8134601 effective words) took 13.9s, 584677 effective words/s\n",
      "2022-12-13 19:31:26,214 : INFO : EPOCH 5 - PROGRESS: at 6.60% examples, 536331 words/s, in_qsize 15, out_qsize 0\n",
      "2022-12-13 19:31:27,244 : INFO : EPOCH 5 - PROGRESS: at 13.44% examples, 537239 words/s, in_qsize 15, out_qsize 0\n",
      "2022-12-13 19:31:28,256 : INFO : EPOCH 5 - PROGRESS: at 19.84% examples, 529524 words/s, in_qsize 15, out_qsize 0\n",
      "2022-12-13 19:31:29,259 : INFO : EPOCH 5 - PROGRESS: at 26.11% examples, 524729 words/s, in_qsize 15, out_qsize 0\n",
      "2022-12-13 19:31:30,290 : INFO : EPOCH 5 - PROGRESS: at 33.04% examples, 529188 words/s, in_qsize 15, out_qsize 3\n",
      "2022-12-13 19:31:31,295 : INFO : EPOCH 5 - PROGRESS: at 40.40% examples, 540265 words/s, in_qsize 15, out_qsize 0\n",
      "2022-12-13 19:31:32,298 : INFO : EPOCH 5 - PROGRESS: at 47.55% examples, 545888 words/s, in_qsize 15, out_qsize 0\n",
      "2022-12-13 19:31:33,303 : INFO : EPOCH 5 - PROGRESS: at 55.03% examples, 553300 words/s, in_qsize 16, out_qsize 0\n",
      "2022-12-13 19:31:34,327 : INFO : EPOCH 5 - PROGRESS: at 61.84% examples, 552074 words/s, in_qsize 12, out_qsize 3\n",
      "2022-12-13 19:31:35,343 : INFO : EPOCH 5 - PROGRESS: at 69.73% examples, 560156 words/s, in_qsize 13, out_qsize 2\n",
      "2022-12-13 19:31:36,397 : INFO : EPOCH 5 - PROGRESS: at 77.21% examples, 561711 words/s, in_qsize 15, out_qsize 0\n",
      "2022-12-13 19:31:37,447 : INFO : EPOCH 5 - PROGRESS: at 84.59% examples, 562498 words/s, in_qsize 13, out_qsize 2\n",
      "2022-12-13 19:31:38,449 : INFO : EPOCH 5 - PROGRESS: at 91.96% examples, 565194 words/s, in_qsize 15, out_qsize 0\n",
      "2022-12-13 19:31:39,449 : INFO : EPOCH 5 - PROGRESS: at 99.68% examples, 569490 words/s, in_qsize 3, out_qsize 1\n",
      "2022-12-13 19:31:39,472 : INFO : EPOCH 5: training on 9226989 raw words (8133730 effective words) took 14.3s, 570390 effective words/s\n",
      "2022-12-13 19:31:40,518 : INFO : EPOCH 6 - PROGRESS: at 6.61% examples, 521699 words/s, in_qsize 14, out_qsize 1\n",
      "2022-12-13 19:31:41,519 : INFO : EPOCH 6 - PROGRESS: at 14.09% examples, 563836 words/s, in_qsize 15, out_qsize 0\n",
      "2022-12-13 19:31:42,523 : INFO : EPOCH 6 - PROGRESS: at 21.13% examples, 566233 words/s, in_qsize 15, out_qsize 0\n",
      "2022-12-13 19:31:43,547 : INFO : EPOCH 6 - PROGRESS: at 28.50% examples, 571087 words/s, in_qsize 15, out_qsize 0\n",
      "2022-12-13 19:31:44,559 : INFO : EPOCH 6 - PROGRESS: at 35.76% examples, 573512 words/s, in_qsize 15, out_qsize 0\n",
      "2022-12-13 19:31:45,561 : INFO : EPOCH 6 - PROGRESS: at 43.21% examples, 579110 words/s, in_qsize 15, out_qsize 0\n",
      "2022-12-13 19:31:46,562 : INFO : EPOCH 6 - PROGRESS: at 50.26% examples, 578099 words/s, in_qsize 15, out_qsize 0\n",
      "2022-12-13 19:31:47,657 : INFO : EPOCH 6 - PROGRESS: at 57.83% examples, 576238 words/s, in_qsize 14, out_qsize 1\n",
      "2022-12-13 19:31:48,659 : INFO : EPOCH 6 - PROGRESS: at 65.08% examples, 577612 words/s, in_qsize 14, out_qsize 1\n",
      "2022-12-13 19:31:49,696 : INFO : EPOCH 6 - PROGRESS: at 72.33% examples, 576792 words/s, in_qsize 15, out_qsize 0\n",
      "2022-12-13 19:31:50,703 : INFO : EPOCH 6 - PROGRESS: at 79.28% examples, 575314 words/s, in_qsize 15, out_qsize 0\n",
      "2022-12-13 19:31:51,704 : INFO : EPOCH 6 - PROGRESS: at 86.22% examples, 574343 words/s, in_qsize 15, out_qsize 0\n",
      "2022-12-13 19:31:52,721 : INFO : EPOCH 6 - PROGRESS: at 93.70% examples, 576171 words/s, in_qsize 16, out_qsize 0\n",
      "2022-12-13 19:31:53,503 : INFO : EPOCH 6: training on 9226989 raw words (8136233 effective words) took 14.0s, 580533 effective words/s\n",
      "2022-12-13 19:31:54,539 : INFO : EPOCH 7 - PROGRESS: at 6.71% examples, 533492 words/s, in_qsize 15, out_qsize 2\n",
      "2022-12-13 19:31:55,562 : INFO : EPOCH 7 - PROGRESS: at 14.31% examples, 568229 words/s, in_qsize 14, out_qsize 1\n",
      "2022-12-13 19:31:56,567 : INFO : EPOCH 7 - PROGRESS: at 21.66% examples, 577434 words/s, in_qsize 16, out_qsize 2\n",
      "2022-12-13 19:31:57,621 : INFO : EPOCH 7 - PROGRESS: at 29.47% examples, 583787 words/s, in_qsize 15, out_qsize 0\n",
      "2022-12-13 19:31:58,650 : INFO : EPOCH 7 - PROGRESS: at 37.16% examples, 588516 words/s, in_qsize 15, out_qsize 0\n",
      "2022-12-13 19:31:59,660 : INFO : EPOCH 7 - PROGRESS: at 44.30% examples, 586484 words/s, in_qsize 15, out_qsize 0\n",
      "2022-12-13 19:32:00,689 : INFO : EPOCH 7 - PROGRESS: at 51.77% examples, 587184 words/s, in_qsize 14, out_qsize 1\n",
      "2022-12-13 19:32:01,692 : INFO : EPOCH 7 - PROGRESS: at 59.35% examples, 590631 words/s, in_qsize 16, out_qsize 0\n",
      "2022-12-13 19:32:02,719 : INFO : EPOCH 7 - PROGRESS: at 66.05% examples, 584061 words/s, in_qsize 15, out_qsize 0\n",
      "2022-12-13 19:32:03,732 : INFO : EPOCH 7 - PROGRESS: at 73.20% examples, 583080 words/s, in_qsize 15, out_qsize 0\n",
      "2022-12-13 19:32:04,734 : INFO : EPOCH 7 - PROGRESS: at 80.25% examples, 582135 words/s, in_qsize 15, out_qsize 0\n",
      "2022-12-13 19:32:05,742 : INFO : EPOCH 7 - PROGRESS: at 87.41% examples, 581710 words/s, in_qsize 15, out_qsize 0\n",
      "2022-12-13 19:32:06,823 : INFO : EPOCH 7 - PROGRESS: at 95.11% examples, 581459 words/s, in_qsize 13, out_qsize 2\n",
      "2022-12-13 19:32:07,392 : INFO : EPOCH 7: training on 9226989 raw words (8134680 effective words) took 13.9s, 586242 effective words/s\n",
      "2022-12-13 19:32:08,407 : INFO : EPOCH 8 - PROGRESS: at 6.72% examples, 544543 words/s, in_qsize 15, out_qsize 0\n",
      "2022-12-13 19:32:09,420 : INFO : EPOCH 8 - PROGRESS: at 14.20% examples, 572300 words/s, in_qsize 15, out_qsize 0\n",
      "2022-12-13 19:32:10,496 : INFO : EPOCH 8 - PROGRESS: at 21.88% examples, 575754 words/s, in_qsize 15, out_qsize 0\n",
      "2022-12-13 19:32:11,502 : INFO : EPOCH 8 - PROGRESS: at 29.14% examples, 578531 words/s, in_qsize 14, out_qsize 1\n",
      "2022-12-13 19:32:12,509 : INFO : EPOCH 8 - PROGRESS: at 36.51% examples, 581744 words/s, in_qsize 15, out_qsize 0\n",
      "2022-12-13 19:32:13,513 : INFO : EPOCH 8 - PROGRESS: at 43.97% examples, 585625 words/s, in_qsize 14, out_qsize 0\n",
      "2022-12-13 19:32:14,539 : INFO : EPOCH 8 - PROGRESS: at 51.34% examples, 585419 words/s, in_qsize 15, out_qsize 0\n",
      "2022-12-13 19:32:15,550 : INFO : EPOCH 8 - PROGRESS: at 58.80% examples, 587466 words/s, in_qsize 13, out_qsize 2\n",
      "2022-12-13 19:32:16,564 : INFO : EPOCH 8 - PROGRESS: at 66.38% examples, 589747 words/s, in_qsize 16, out_qsize 0\n",
      "2022-12-13 19:32:17,570 : INFO : EPOCH 8 - PROGRESS: at 73.31% examples, 586884 words/s, in_qsize 14, out_qsize 0\n",
      "2022-12-13 19:32:18,572 : INFO : EPOCH 8 - PROGRESS: at 80.58% examples, 587087 words/s, in_qsize 15, out_qsize 0\n",
      "2022-12-13 19:32:19,578 : INFO : EPOCH 8 - PROGRESS: at 87.84% examples, 587088 words/s, in_qsize 15, out_qsize 0\n",
      "2022-12-13 19:32:20,616 : INFO : EPOCH 8 - PROGRESS: at 95.22% examples, 586299 words/s, in_qsize 13, out_qsize 2\n",
      "2022-12-13 19:32:21,166 : INFO : EPOCH 8: training on 9226989 raw words (8134387 effective words) took 13.8s, 591080 effective words/s\n",
      "2022-12-13 19:32:22,186 : INFO : EPOCH 9 - PROGRESS: at 6.82% examples, 551495 words/s, in_qsize 15, out_qsize 0\n",
      "2022-12-13 19:32:23,195 : INFO : EPOCH 9 - PROGRESS: at 14.20% examples, 572546 words/s, in_qsize 15, out_qsize 0\n",
      "2022-12-13 19:32:24,216 : INFO : EPOCH 9 - PROGRESS: at 21.56% examples, 577493 words/s, in_qsize 15, out_qsize 0\n",
      "2022-12-13 19:32:25,228 : INFO : EPOCH 9 - PROGRESS: at 29.14% examples, 585489 words/s, in_qsize 15, out_qsize 0\n",
      "2022-12-13 19:32:26,254 : INFO : EPOCH 9 - PROGRESS: at 36.62% examples, 586869 words/s, in_qsize 14, out_qsize 1\n",
      "2022-12-13 19:32:27,290 : INFO : EPOCH 9 - PROGRESS: at 43.86% examples, 584078 words/s, in_qsize 15, out_qsize 0\n",
      "2022-12-13 19:32:28,309 : INFO : EPOCH 9 - PROGRESS: at 51.23% examples, 584706 words/s, in_qsize 14, out_qsize 1\n",
      "2022-12-13 19:32:29,323 : INFO : EPOCH 9 - PROGRESS: at 58.91% examples, 588781 words/s, in_qsize 15, out_qsize 0\n",
      "2022-12-13 19:32:30,329 : INFO : EPOCH 9 - PROGRESS: at 66.27% examples, 589541 words/s, in_qsize 15, out_qsize 0\n",
      "2022-12-13 19:32:31,341 : INFO : EPOCH 9 - PROGRESS: at 73.41% examples, 588057 words/s, in_qsize 15, out_qsize 0\n",
      "2022-12-13 19:32:32,355 : INFO : EPOCH 9 - PROGRESS: at 81.01% examples, 589903 words/s, in_qsize 14, out_qsize 1\n",
      "2022-12-13 19:32:33,357 : INFO : EPOCH 9 - PROGRESS: at 88.28% examples, 589843 words/s, in_qsize 15, out_qsize 0\n"
     ]
    },
    {
     "name": "stderr",
     "output_type": "stream",
     "text": [
      "2022-12-13 19:32:34,359 : INFO : EPOCH 9 - PROGRESS: at 95.65% examples, 590487 words/s, in_qsize 15, out_qsize 1\n",
      "2022-12-13 19:32:34,896 : INFO : EPOCH 9: training on 9226989 raw words (8135736 effective words) took 13.7s, 593112 effective words/s\n",
      "2022-12-13 19:32:35,915 : INFO : EPOCH 10 - PROGRESS: at 7.04% examples, 568358 words/s, in_qsize 15, out_qsize 0\n",
      "2022-12-13 19:32:36,968 : INFO : EPOCH 10 - PROGRESS: at 14.64% examples, 577279 words/s, in_qsize 15, out_qsize 0\n",
      "2022-12-13 19:32:38,009 : INFO : EPOCH 10 - PROGRESS: at 22.21% examples, 582443 words/s, in_qsize 15, out_qsize 0\n",
      "2022-12-13 19:32:39,015 : INFO : EPOCH 10 - PROGRESS: at 29.79% examples, 589961 words/s, in_qsize 16, out_qsize 0\n",
      "2022-12-13 19:32:40,024 : INFO : EPOCH 10 - PROGRESS: at 37.16% examples, 590727 words/s, in_qsize 15, out_qsize 0\n",
      "2022-12-13 19:32:41,036 : INFO : EPOCH 10 - PROGRESS: at 44.62% examples, 592342 words/s, in_qsize 15, out_qsize 0\n",
      "2022-12-13 19:32:42,048 : INFO : EPOCH 10 - PROGRESS: at 51.99% examples, 592331 words/s, in_qsize 14, out_qsize 1\n",
      "2022-12-13 19:32:43,051 : INFO : EPOCH 10 - PROGRESS: at 59.78% examples, 597319 words/s, in_qsize 15, out_qsize 0\n",
      "2022-12-13 19:32:44,062 : INFO : EPOCH 10 - PROGRESS: at 66.81% examples, 593919 words/s, in_qsize 15, out_qsize 0\n",
      "2022-12-13 19:32:45,081 : INFO : EPOCH 10 - PROGRESS: at 74.06% examples, 592489 words/s, in_qsize 15, out_qsize 0\n",
      "2022-12-13 19:32:46,089 : INFO : EPOCH 10 - PROGRESS: at 81.55% examples, 593520 words/s, in_qsize 15, out_qsize 0\n",
      "2022-12-13 19:32:47,090 : INFO : EPOCH 10 - PROGRESS: at 89.04% examples, 594649 words/s, in_qsize 14, out_qsize 1\n",
      "2022-12-13 19:32:48,122 : INFO : EPOCH 10 - PROGRESS: at 96.64% examples, 594936 words/s, in_qsize 15, out_qsize 0\n",
      "2022-12-13 19:32:48,499 : INFO : EPOCH 10: training on 9226989 raw words (8134874 effective words) took 13.6s, 598553 effective words/s\n",
      "2022-12-13 19:32:49,515 : INFO : EPOCH 11 - PROGRESS: at 7.25% examples, 588479 words/s, in_qsize 15, out_qsize 0\n",
      "2022-12-13 19:32:50,523 : INFO : EPOCH 11 - PROGRESS: at 14.20% examples, 573811 words/s, in_qsize 15, out_qsize 0\n",
      "2022-12-13 19:32:51,527 : INFO : EPOCH 11 - PROGRESS: at 21.45% examples, 578722 words/s, in_qsize 14, out_qsize 1\n",
      "2022-12-13 19:32:52,531 : INFO : EPOCH 11 - PROGRESS: at 28.93% examples, 585539 words/s, in_qsize 14, out_qsize 1\n",
      "2022-12-13 19:32:53,540 : INFO : EPOCH 11 - PROGRESS: at 36.29% examples, 587065 words/s, in_qsize 14, out_qsize 1\n",
      "2022-12-13 19:32:54,551 : INFO : EPOCH 11 - PROGRESS: at 44.08% examples, 593870 words/s, in_qsize 14, out_qsize 1\n",
      "2022-12-13 19:32:55,566 : INFO : EPOCH 11 - PROGRESS: at 51.44% examples, 593409 words/s, in_qsize 15, out_qsize 2\n",
      "2022-12-13 19:32:56,569 : INFO : EPOCH 11 - PROGRESS: at 58.70% examples, 592949 words/s, in_qsize 14, out_qsize 0\n",
      "2022-12-13 19:32:57,572 : INFO : EPOCH 11 - PROGRESS: at 66.17% examples, 594371 words/s, in_qsize 15, out_qsize 0\n",
      "2022-12-13 19:32:58,578 : INFO : EPOCH 11 - PROGRESS: at 73.31% examples, 592742 words/s, in_qsize 15, out_qsize 0\n",
      "2022-12-13 19:32:59,583 : INFO : EPOCH 11 - PROGRESS: at 80.58% examples, 592295 words/s, in_qsize 11, out_qsize 4\n",
      "2022-12-13 19:33:00,587 : INFO : EPOCH 11 - PROGRESS: at 88.06% examples, 593435 words/s, in_qsize 14, out_qsize 1\n",
      "2022-12-13 19:33:01,592 : INFO : EPOCH 11 - PROGRESS: at 95.43% examples, 593642 words/s, in_qsize 14, out_qsize 1\n",
      "2022-12-13 19:33:02,141 : INFO : EPOCH 11: training on 9226989 raw words (8135244 effective words) took 13.6s, 596902 effective words/s\n",
      "2022-12-13 19:33:03,180 : INFO : EPOCH 12 - PROGRESS: at 7.04% examples, 558543 words/s, in_qsize 15, out_qsize 0\n",
      "2022-12-13 19:33:04,202 : INFO : EPOCH 12 - PROGRESS: at 14.42% examples, 572440 words/s, in_qsize 15, out_qsize 0\n",
      "2022-12-13 19:33:05,222 : INFO : EPOCH 12 - PROGRESS: at 21.88% examples, 580191 words/s, in_qsize 15, out_qsize 0\n",
      "2022-12-13 19:33:06,224 : INFO : EPOCH 12 - PROGRESS: at 28.93% examples, 578131 words/s, in_qsize 15, out_qsize 0\n",
      "2022-12-13 19:33:07,225 : INFO : EPOCH 12 - PROGRESS: at 34.56% examples, 554328 words/s, in_qsize 16, out_qsize 0\n",
      "2022-12-13 19:33:08,228 : INFO : EPOCH 12 - PROGRESS: at 40.29% examples, 539703 words/s, in_qsize 15, out_qsize 0\n",
      "2022-12-13 19:33:09,235 : INFO : EPOCH 12 - PROGRESS: at 45.60% examples, 523900 words/s, in_qsize 16, out_qsize 1\n",
      "2022-12-13 19:33:11,017 : INFO : EPOCH 12 - PROGRESS: at 50.59% examples, 506351 words/s, in_qsize 15, out_qsize 0\n",
      "2022-12-13 19:33:12,038 : INFO : EPOCH 12 - PROGRESS: at 55.89% examples, 497084 words/s, in_qsize 15, out_qsize 0\n",
      "2022-12-13 19:33:13,071 : INFO : EPOCH 12 - PROGRESS: at 61.30% examples, 489956 words/s, in_qsize 16, out_qsize 0\n",
      "2022-12-13 19:33:14,088 : INFO : EPOCH 12 - PROGRESS: at 67.35% examples, 489498 words/s, in_qsize 15, out_qsize 0\n",
      "2022-12-13 19:33:15,153 : INFO : EPOCH 12 - PROGRESS: at 73.20% examples, 486035 words/s, in_qsize 15, out_qsize 1\n",
      "2022-12-13 19:33:16,216 : INFO : EPOCH 12 - PROGRESS: at 78.30% examples, 478173 words/s, in_qsize 15, out_qsize 0\n",
      "2022-12-13 19:33:17,266 : INFO : EPOCH 12 - PROGRESS: at 82.43% examples, 466541 words/s, in_qsize 15, out_qsize 0\n",
      "2022-12-13 19:33:18,320 : INFO : EPOCH 12 - PROGRESS: at 88.82% examples, 468388 words/s, in_qsize 14, out_qsize 1\n",
      "2022-12-13 19:33:19,358 : INFO : EPOCH 12 - PROGRESS: at 94.90% examples, 468827 words/s, in_qsize 14, out_qsize 1\n",
      "2022-12-13 19:33:20,108 : INFO : EPOCH 12: training on 9226989 raw words (8135261 effective words) took 17.2s, 472485 effective words/s\n",
      "2022-12-13 19:33:21,139 : INFO : EPOCH 13 - PROGRESS: at 6.06% examples, 488737 words/s, in_qsize 15, out_qsize 0\n",
      "2022-12-13 19:33:22,166 : INFO : EPOCH 13 - PROGRESS: at 11.71% examples, 467125 words/s, in_qsize 16, out_qsize 1\n",
      "2022-12-13 19:33:23,223 : INFO : EPOCH 13 - PROGRESS: at 17.67% examples, 464258 words/s, in_qsize 15, out_qsize 0\n",
      "2022-12-13 19:33:24,402 : INFO : EPOCH 13 - PROGRESS: at 23.29% examples, 443503 words/s, in_qsize 16, out_qsize 0\n",
      "2022-12-13 19:33:25,402 : INFO : EPOCH 13 - PROGRESS: at 28.93% examples, 446333 words/s, in_qsize 15, out_qsize 0\n",
      "2022-12-13 19:33:26,421 : INFO : EPOCH 13 - PROGRESS: at 34.78% examples, 449691 words/s, in_qsize 15, out_qsize 0\n",
      "2022-12-13 19:33:27,434 : INFO : EPOCH 13 - PROGRESS: at 40.83% examples, 454878 words/s, in_qsize 14, out_qsize 1\n",
      "2022-12-13 19:33:28,444 : INFO : EPOCH 13 - PROGRESS: at 47.55% examples, 465278 words/s, in_qsize 15, out_qsize 0\n",
      "2022-12-13 19:33:29,452 : INFO : EPOCH 13 - PROGRESS: at 53.29% examples, 465149 words/s, in_qsize 15, out_qsize 0\n",
      "2022-12-13 19:33:30,458 : INFO : EPOCH 13 - PROGRESS: at 59.67% examples, 470180 words/s, in_qsize 15, out_qsize 0\n",
      "2022-12-13 19:33:31,461 : INFO : EPOCH 13 - PROGRESS: at 66.71% examples, 479117 words/s, in_qsize 15, out_qsize 0\n",
      "2022-12-13 19:33:32,474 : INFO : EPOCH 13 - PROGRESS: at 74.17% examples, 489025 words/s, in_qsize 14, out_qsize 1\n",
      "2022-12-13 19:33:33,486 : INFO : EPOCH 13 - PROGRESS: at 81.45% examples, 496183 words/s, in_qsize 16, out_qsize 0\n",
      "2022-12-13 19:33:34,498 : INFO : EPOCH 13 - PROGRESS: at 89.15% examples, 504796 words/s, in_qsize 16, out_qsize 0\n",
      "2022-12-13 19:33:35,505 : INFO : EPOCH 13 - PROGRESS: at 96.41% examples, 510149 words/s, in_qsize 12, out_qsize 3\n",
      "2022-12-13 19:33:35,924 : INFO : EPOCH 13: training on 9226989 raw words (8135070 effective words) took 15.8s, 515073 effective words/s\n",
      "2022-12-13 19:33:36,989 : INFO : EPOCH 14 - PROGRESS: at 7.15% examples, 552680 words/s, in_qsize 15, out_qsize 0\n",
      "2022-12-13 19:33:38,013 : INFO : EPOCH 14 - PROGRESS: at 14.42% examples, 564330 words/s, in_qsize 16, out_qsize 1\n",
      "2022-12-13 19:33:39,021 : INFO : EPOCH 14 - PROGRESS: at 22.10% examples, 582759 words/s, in_qsize 15, out_qsize 0\n",
      "2022-12-13 19:33:40,031 : INFO : EPOCH 14 - PROGRESS: at 28.93% examples, 574640 words/s, in_qsize 14, out_qsize 1\n",
      "2022-12-13 19:33:41,043 : INFO : EPOCH 14 - PROGRESS: at 36.08% examples, 574638 words/s, in_qsize 15, out_qsize 0\n",
      "2022-12-13 19:33:42,046 : INFO : EPOCH 14 - PROGRESS: at 42.67% examples, 568307 words/s, in_qsize 14, out_qsize 1\n",
      "2022-12-13 19:33:43,058 : INFO : EPOCH 14 - PROGRESS: at 49.83% examples, 569233 words/s, in_qsize 15, out_qsize 0\n",
      "2022-12-13 19:33:44,065 : INFO : EPOCH 14 - PROGRESS: at 57.08% examples, 571461 words/s, in_qsize 14, out_qsize 1\n"
     ]
    },
    {
     "name": "stderr",
     "output_type": "stream",
     "text": [
      "2022-12-13 19:33:45,108 : INFO : EPOCH 14 - PROGRESS: at 64.65% examples, 573722 words/s, in_qsize 16, out_qsize 2\n",
      "2022-12-13 19:33:46,110 : INFO : EPOCH 14 - PROGRESS: at 72.00% examples, 576136 words/s, in_qsize 16, out_qsize 1\n",
      "2022-12-13 19:33:47,117 : INFO : EPOCH 14 - PROGRESS: at 79.82% examples, 581021 words/s, in_qsize 15, out_qsize 0\n",
      "2022-12-13 19:33:48,125 : INFO : EPOCH 14 - PROGRESS: at 87.30% examples, 582829 words/s, in_qsize 16, out_qsize 1\n",
      "2022-12-13 19:33:49,135 : INFO : EPOCH 14 - PROGRESS: at 94.79% examples, 584296 words/s, in_qsize 15, out_qsize 0\n",
      "2022-12-13 19:33:49,754 : INFO : EPOCH 14: training on 9226989 raw words (8135584 effective words) took 13.8s, 588795 effective words/s\n",
      "2022-12-13 19:33:50,772 : INFO : EPOCH 15 - PROGRESS: at 7.25% examples, 587477 words/s, in_qsize 16, out_qsize 0\n",
      "2022-12-13 19:33:51,813 : INFO : EPOCH 15 - PROGRESS: at 13.44% examples, 533934 words/s, in_qsize 14, out_qsize 1\n",
      "2022-12-13 19:33:52,861 : INFO : EPOCH 15 - PROGRESS: at 20.48% examples, 538219 words/s, in_qsize 15, out_qsize 0\n",
      "2022-12-13 19:33:53,873 : INFO : EPOCH 15 - PROGRESS: at 27.41% examples, 543004 words/s, in_qsize 15, out_qsize 0\n",
      "2022-12-13 19:33:54,878 : INFO : EPOCH 15 - PROGRESS: at 34.13% examples, 543083 words/s, in_qsize 15, out_qsize 0\n",
      "2022-12-13 19:33:55,948 : INFO : EPOCH 15 - PROGRESS: at 40.83% examples, 537434 words/s, in_qsize 14, out_qsize 1\n",
      "2022-12-13 19:33:56,976 : INFO : EPOCH 15 - PROGRESS: at 47.77% examples, 539005 words/s, in_qsize 15, out_qsize 0\n",
      "2022-12-13 19:33:57,981 : INFO : EPOCH 15 - PROGRESS: at 54.71% examples, 541762 words/s, in_qsize 15, out_qsize 0\n",
      "2022-12-13 19:33:58,983 : INFO : EPOCH 15 - PROGRESS: at 61.74% examples, 544981 words/s, in_qsize 15, out_qsize 0\n",
      "2022-12-13 19:33:59,985 : INFO : EPOCH 15 - PROGRESS: at 68.21% examples, 543302 words/s, in_qsize 14, out_qsize 0\n",
      "2022-12-13 19:34:01,046 : INFO : EPOCH 15 - PROGRESS: at 76.02% examples, 548456 words/s, in_qsize 15, out_qsize 0\n",
      "2022-12-13 19:34:02,051 : INFO : EPOCH 15 - PROGRESS: at 83.41% examples, 552384 words/s, in_qsize 15, out_qsize 0\n",
      "2022-12-13 19:34:03,097 : INFO : EPOCH 15 - PROGRESS: at 91.10% examples, 556008 words/s, in_qsize 15, out_qsize 0\n",
      "2022-12-13 19:34:04,105 : INFO : EPOCH 15 - PROGRESS: at 98.70% examples, 559958 words/s, in_qsize 13, out_qsize 0\n",
      "2022-12-13 19:34:04,206 : INFO : EPOCH 15: training on 9226989 raw words (8134970 effective words) took 14.4s, 563385 effective words/s\n",
      "2022-12-13 19:34:05,223 : INFO : EPOCH 16 - PROGRESS: at 6.93% examples, 563791 words/s, in_qsize 15, out_qsize 0\n",
      "2022-12-13 19:34:06,224 : INFO : EPOCH 16 - PROGRESS: at 14.42% examples, 585680 words/s, in_qsize 16, out_qsize 0\n",
      "2022-12-13 19:34:07,233 : INFO : EPOCH 16 - PROGRESS: at 21.77% examples, 588572 words/s, in_qsize 14, out_qsize 1\n",
      "2022-12-13 19:34:08,273 : INFO : EPOCH 16 - PROGRESS: at 29.25% examples, 587600 words/s, in_qsize 15, out_qsize 0\n",
      "2022-12-13 19:34:09,289 : INFO : EPOCH 16 - PROGRESS: at 36.19% examples, 581034 words/s, in_qsize 15, out_qsize 0\n",
      "2022-12-13 19:34:10,318 : INFO : EPOCH 16 - PROGRESS: at 42.24% examples, 563868 words/s, in_qsize 14, out_qsize 1\n",
      "2022-12-13 19:34:11,323 : INFO : EPOCH 16 - PROGRESS: at 49.61% examples, 568474 words/s, in_qsize 15, out_qsize 0\n",
      "2022-12-13 19:34:12,396 : INFO : EPOCH 16 - PROGRESS: at 53.62% examples, 533801 words/s, in_qsize 13, out_qsize 3\n",
      "2022-12-13 19:34:13,432 : INFO : EPOCH 16 - PROGRESS: at 57.94% examples, 512079 words/s, in_qsize 15, out_qsize 0\n",
      "2022-12-13 19:34:14,448 : INFO : EPOCH 16 - PROGRESS: at 64.01% examples, 509407 words/s, in_qsize 14, out_qsize 1\n",
      "2022-12-13 19:34:15,467 : INFO : EPOCH 16 - PROGRESS: at 71.47% examples, 517334 words/s, in_qsize 16, out_qsize 2\n",
      "2022-12-13 19:34:16,488 : INFO : EPOCH 16 - PROGRESS: at 79.17% examples, 525273 words/s, in_qsize 15, out_qsize 0\n",
      "2022-12-13 19:34:17,514 : INFO : EPOCH 16 - PROGRESS: at 86.33% examples, 528500 words/s, in_qsize 16, out_qsize 0\n",
      "2022-12-13 19:34:18,517 : INFO : EPOCH 16 - PROGRESS: at 93.80% examples, 533958 words/s, in_qsize 14, out_qsize 1\n",
      "2022-12-13 19:34:19,318 : INFO : EPOCH 16: training on 9226989 raw words (8135524 effective words) took 15.1s, 538976 effective words/s\n",
      "2022-12-13 19:34:20,343 : INFO : EPOCH 17 - PROGRESS: at 6.61% examples, 530674 words/s, in_qsize 12, out_qsize 3\n",
      "2022-12-13 19:34:21,377 : INFO : EPOCH 17 - PROGRESS: at 14.21% examples, 563494 words/s, in_qsize 15, out_qsize 0\n",
      "2022-12-13 19:34:22,385 : INFO : EPOCH 17 - PROGRESS: at 21.56% examples, 573739 words/s, in_qsize 14, out_qsize 1\n",
      "2022-12-13 19:34:23,392 : INFO : EPOCH 17 - PROGRESS: at 28.82% examples, 577079 words/s, in_qsize 12, out_qsize 3\n",
      "2022-12-13 19:34:24,410 : INFO : EPOCH 17 - PROGRESS: at 36.40% examples, 582782 words/s, in_qsize 14, out_qsize 1\n",
      "2022-12-13 19:34:25,413 : INFO : EPOCH 17 - PROGRESS: at 43.86% examples, 586694 words/s, in_qsize 14, out_qsize 1\n",
      "2022-12-13 19:34:26,426 : INFO : EPOCH 17 - PROGRESS: at 51.12% examples, 586114 words/s, in_qsize 11, out_qsize 4\n",
      "2022-12-13 19:34:27,446 : INFO : EPOCH 17 - PROGRESS: at 58.37% examples, 585335 words/s, in_qsize 15, out_qsize 1\n",
      "2022-12-13 19:34:28,479 : INFO : EPOCH 17 - PROGRESS: at 66.27% examples, 589483 words/s, in_qsize 15, out_qsize 0\n",
      "2022-12-13 19:34:29,487 : INFO : EPOCH 17 - PROGRESS: at 73.74% examples, 590873 words/s, in_qsize 15, out_qsize 0\n",
      "2022-12-13 19:34:30,501 : INFO : EPOCH 17 - PROGRESS: at 81.01% examples, 590117 words/s, in_qsize 14, out_qsize 1\n",
      "2022-12-13 19:34:31,504 : INFO : EPOCH 17 - PROGRESS: at 88.60% examples, 592195 words/s, in_qsize 14, out_qsize 1\n",
      "2022-12-13 19:34:32,506 : INFO : EPOCH 17 - PROGRESS: at 95.76% examples, 591298 words/s, in_qsize 15, out_qsize 0\n",
      "2022-12-13 19:34:33,010 : INFO : EPOCH 17: training on 9226989 raw words (8135535 effective words) took 13.7s, 594680 effective words/s\n",
      "2022-12-13 19:34:34,026 : INFO : EPOCH 18 - PROGRESS: at 6.82% examples, 553103 words/s, in_qsize 14, out_qsize 0\n",
      "2022-12-13 19:34:35,047 : INFO : EPOCH 18 - PROGRESS: at 14.42% examples, 578520 words/s, in_qsize 15, out_qsize 0\n",
      "2022-12-13 19:34:36,067 : INFO : EPOCH 18 - PROGRESS: at 21.77% examples, 581589 words/s, in_qsize 14, out_qsize 1\n",
      "2022-12-13 19:34:37,118 : INFO : EPOCH 18 - PROGRESS: at 29.57% examples, 587369 words/s, in_qsize 15, out_qsize 0\n",
      "2022-12-13 19:34:38,127 : INFO : EPOCH 18 - PROGRESS: at 37.16% examples, 591993 words/s, in_qsize 15, out_qsize 0\n",
      "2022-12-13 19:34:39,147 : INFO : EPOCH 18 - PROGRESS: at 44.30% examples, 588362 words/s, in_qsize 15, out_qsize 2\n",
      "2022-12-13 19:34:40,151 : INFO : EPOCH 18 - PROGRESS: at 51.77% examples, 590824 words/s, in_qsize 15, out_qsize 0\n",
      "2022-12-13 19:34:41,160 : INFO : EPOCH 18 - PROGRESS: at 59.24% examples, 592395 words/s, in_qsize 15, out_qsize 0\n",
      "2022-12-13 19:34:42,190 : INFO : EPOCH 18 - PROGRESS: at 66.60% examples, 591145 words/s, in_qsize 16, out_qsize 2\n",
      "2022-12-13 19:34:43,206 : INFO : EPOCH 18 - PROGRESS: at 74.06% examples, 591883 words/s, in_qsize 15, out_qsize 0\n",
      "2022-12-13 19:34:44,214 : INFO : EPOCH 18 - PROGRESS: at 81.44% examples, 592183 words/s, in_qsize 14, out_qsize 1\n",
      "2022-12-13 19:34:45,226 : INFO : EPOCH 18 - PROGRESS: at 89.04% examples, 593623 words/s, in_qsize 15, out_qsize 0\n",
      "2022-12-13 19:34:46,228 : INFO : EPOCH 18 - PROGRESS: at 96.31% examples, 593283 words/s, in_qsize 15, out_qsize 0\n",
      "2022-12-13 19:34:46,671 : INFO : EPOCH 18: training on 9226989 raw words (8134789 effective words) took 13.6s, 596011 effective words/s\n",
      "2022-12-13 19:34:47,685 : INFO : EPOCH 19 - PROGRESS: at 7.04% examples, 570755 words/s, in_qsize 15, out_qsize 0\n",
      "2022-12-13 19:34:48,700 : INFO : EPOCH 19 - PROGRESS: at 14.21% examples, 571698 words/s, in_qsize 15, out_qsize 0\n",
      "2022-12-13 19:34:49,723 : INFO : EPOCH 19 - PROGRESS: at 21.77% examples, 582283 words/s, in_qsize 15, out_qsize 0\n",
      "2022-12-13 19:34:50,749 : INFO : EPOCH 19 - PROGRESS: at 28.93% examples, 578454 words/s, in_qsize 15, out_qsize 0\n",
      "2022-12-13 19:34:51,760 : INFO : EPOCH 19 - PROGRESS: at 36.51% examples, 584751 words/s, in_qsize 15, out_qsize 2\n",
      "2022-12-13 19:34:52,807 : INFO : EPOCH 19 - PROGRESS: at 44.08% examples, 585500 words/s, in_qsize 15, out_qsize 0\n",
      "2022-12-13 19:34:53,835 : INFO : EPOCH 19 - PROGRESS: at 51.77% examples, 588847 words/s, in_qsize 15, out_qsize 0\n"
     ]
    },
    {
     "name": "stderr",
     "output_type": "stream",
     "text": [
      "2022-12-13 19:34:54,850 : INFO : EPOCH 19 - PROGRESS: at 59.02% examples, 588017 words/s, in_qsize 15, out_qsize 0\n",
      "2022-12-13 19:34:55,855 : INFO : EPOCH 19 - PROGRESS: at 66.49% examples, 589919 words/s, in_qsize 14, out_qsize 1\n",
      "2022-12-13 19:34:56,859 : INFO : EPOCH 19 - PROGRESS: at 73.96% examples, 591459 words/s, in_qsize 15, out_qsize 0\n",
      "2022-12-13 19:34:57,875 : INFO : EPOCH 19 - PROGRESS: at 81.34% examples, 591327 words/s, in_qsize 16, out_qsize 1\n",
      "2022-12-13 19:34:58,878 : INFO : EPOCH 19 - PROGRESS: at 89.04% examples, 594068 words/s, in_qsize 15, out_qsize 1\n",
      "2022-12-13 19:34:59,881 : INFO : EPOCH 19 - PROGRESS: at 96.42% examples, 594329 words/s, in_qsize 15, out_qsize 0\n",
      "2022-12-13 19:35:00,299 : INFO : EPOCH 19: training on 9226989 raw words (8135679 effective words) took 13.6s, 597467 effective words/s\n",
      "2022-12-13 19:35:01,313 : INFO : EPOCH 20 - PROGRESS: at 6.72% examples, 545498 words/s, in_qsize 15, out_qsize 0\n",
      "2022-12-13 19:35:02,315 : INFO : EPOCH 20 - PROGRESS: at 13.77% examples, 558563 words/s, in_qsize 16, out_qsize 0\n",
      "2022-12-13 19:35:03,320 : INFO : EPOCH 20 - PROGRESS: at 21.13% examples, 571243 words/s, in_qsize 15, out_qsize 0\n",
      "2022-12-13 19:35:04,327 : INFO : EPOCH 20 - PROGRESS: at 28.06% examples, 568409 words/s, in_qsize 16, out_qsize 0\n",
      "2022-12-13 19:35:05,338 : INFO : EPOCH 20 - PROGRESS: at 35.43% examples, 573166 words/s, in_qsize 15, out_qsize 0\n",
      "2022-12-13 19:35:06,339 : INFO : EPOCH 20 - PROGRESS: at 42.78% examples, 577474 words/s, in_qsize 16, out_qsize 0\n",
      "2022-12-13 19:35:07,378 : INFO : EPOCH 20 - PROGRESS: at 50.37% examples, 579889 words/s, in_qsize 15, out_qsize 0\n",
      "2022-12-13 19:35:08,385 : INFO : EPOCH 20 - PROGRESS: at 57.83% examples, 582901 words/s, in_qsize 15, out_qsize 0\n",
      "2022-12-13 19:35:09,388 : INFO : EPOCH 20 - PROGRESS: at 65.41% examples, 586479 words/s, in_qsize 16, out_qsize 0\n",
      "2022-12-13 19:35:10,391 : INFO : EPOCH 20 - PROGRESS: at 72.77% examples, 587532 words/s, in_qsize 16, out_qsize 0\n",
      "2022-12-13 19:35:11,436 : INFO : EPOCH 20 - PROGRESS: at 80.25% examples, 587042 words/s, in_qsize 15, out_qsize 0\n",
      "2022-12-13 19:35:12,449 : INFO : EPOCH 20 - PROGRESS: at 87.74% examples, 588133 words/s, in_qsize 15, out_qsize 0\n",
      "2022-12-13 19:35:13,458 : INFO : EPOCH 20 - PROGRESS: at 95.11% examples, 588583 words/s, in_qsize 15, out_qsize 0\n",
      "2022-12-13 19:35:14,038 : INFO : EPOCH 20: training on 9226989 raw words (8134003 effective words) took 13.7s, 592623 effective words/s\n",
      "2022-12-13 19:35:15,063 : INFO : EPOCH 21 - PROGRESS: at 6.93% examples, 556813 words/s, in_qsize 15, out_qsize 0\n",
      "2022-12-13 19:35:16,070 : INFO : EPOCH 21 - PROGRESS: at 14.53% examples, 584404 words/s, in_qsize 15, out_qsize 0\n",
      "2022-12-13 19:35:17,119 : INFO : EPOCH 21 - PROGRESS: at 21.99% examples, 582815 words/s, in_qsize 15, out_qsize 0\n",
      "2022-12-13 19:35:18,151 : INFO : EPOCH 21 - PROGRESS: at 29.47% examples, 584429 words/s, in_qsize 14, out_qsize 1\n",
      "2022-12-13 19:35:19,171 : INFO : EPOCH 21 - PROGRESS: at 36.94% examples, 586599 words/s, in_qsize 15, out_qsize 0\n",
      "2022-12-13 19:35:20,185 : INFO : EPOCH 21 - PROGRESS: at 44.40% examples, 588804 words/s, in_qsize 12, out_qsize 3\n",
      "2022-12-13 19:35:21,186 : INFO : EPOCH 21 - PROGRESS: at 51.77% examples, 590172 words/s, in_qsize 15, out_qsize 0\n",
      "2022-12-13 19:35:22,191 : INFO : EPOCH 21 - PROGRESS: at 59.24% examples, 592054 words/s, in_qsize 14, out_qsize 0\n",
      "2022-12-13 19:35:23,195 : INFO : EPOCH 21 - PROGRESS: at 66.49% examples, 591596 words/s, in_qsize 14, out_qsize 1\n",
      "2022-12-13 19:35:24,238 : INFO : EPOCH 21 - PROGRESS: at 74.39% examples, 594134 words/s, in_qsize 14, out_qsize 1\n",
      "2022-12-13 19:35:25,250 : INFO : EPOCH 21 - PROGRESS: at 81.77% examples, 594017 words/s, in_qsize 14, out_qsize 1\n",
      "2022-12-13 19:35:26,292 : INFO : EPOCH 21 - PROGRESS: at 89.26% examples, 593110 words/s, in_qsize 16, out_qsize 3\n",
      "2022-12-13 19:35:27,309 : INFO : EPOCH 21 - PROGRESS: at 97.18% examples, 596134 words/s, in_qsize 15, out_qsize 0\n",
      "2022-12-13 19:35:27,643 : INFO : EPOCH 21: training on 9226989 raw words (8133178 effective words) took 13.6s, 598385 effective words/s\n",
      "2022-12-13 19:35:28,667 : INFO : EPOCH 22 - PROGRESS: at 6.93% examples, 555538 words/s, in_qsize 15, out_qsize 0\n",
      "2022-12-13 19:35:29,672 : INFO : EPOCH 22 - PROGRESS: at 14.09% examples, 567144 words/s, in_qsize 15, out_qsize 0\n",
      "2022-12-13 19:35:30,725 : INFO : EPOCH 22 - PROGRESS: at 21.88% examples, 579215 words/s, in_qsize 15, out_qsize 0\n",
      "2022-12-13 19:35:31,743 : INFO : EPOCH 22 - PROGRESS: at 29.36% examples, 583723 words/s, in_qsize 15, out_qsize 0\n",
      "2022-12-13 19:35:32,763 : INFO : EPOCH 22 - PROGRESS: at 36.73% examples, 584485 words/s, in_qsize 15, out_qsize 0\n",
      "2022-12-13 19:35:33,792 : INFO : EPOCH 22 - PROGRESS: at 44.30% examples, 586947 words/s, in_qsize 15, out_qsize 0\n",
      "2022-12-13 19:35:34,797 : INFO : EPOCH 22 - PROGRESS: at 51.66% examples, 588321 words/s, in_qsize 15, out_qsize 0\n",
      "2022-12-13 19:35:35,801 : INFO : EPOCH 22 - PROGRESS: at 59.13% examples, 590460 words/s, in_qsize 15, out_qsize 0\n",
      "2022-12-13 19:35:36,805 : INFO : EPOCH 22 - PROGRESS: at 66.38% examples, 590171 words/s, in_qsize 15, out_qsize 0\n",
      "2022-12-13 19:35:37,822 : INFO : EPOCH 22 - PROGRESS: at 73.85% examples, 590939 words/s, in_qsize 15, out_qsize 0\n",
      "2022-12-13 19:35:38,851 : INFO : EPOCH 22 - PROGRESS: at 81.45% examples, 591778 words/s, in_qsize 14, out_qsize 1\n",
      "2022-12-13 19:35:39,861 : INFO : EPOCH 22 - PROGRESS: at 88.82% examples, 591912 words/s, in_qsize 15, out_qsize 0\n",
      "2022-12-13 19:35:40,888 : INFO : EPOCH 22 - PROGRESS: at 96.09% examples, 590593 words/s, in_qsize 13, out_qsize 3\n",
      "2022-12-13 19:35:41,320 : INFO : EPOCH 22: training on 9226989 raw words (8134766 effective words) took 13.7s, 595190 effective words/s\n",
      "2022-12-13 19:35:42,392 : INFO : EPOCH 23 - PROGRESS: at 7.15% examples, 548971 words/s, in_qsize 15, out_qsize 0\n",
      "2022-12-13 19:35:43,412 : INFO : EPOCH 23 - PROGRESS: at 14.64% examples, 571829 words/s, in_qsize 14, out_qsize 1\n",
      "2022-12-13 19:35:44,419 : INFO : EPOCH 23 - PROGRESS: at 22.21% examples, 585216 words/s, in_qsize 15, out_qsize 0\n",
      "2022-12-13 19:35:45,424 : INFO : EPOCH 23 - PROGRESS: at 29.36% examples, 583676 words/s, in_qsize 15, out_qsize 0\n",
      "2022-12-13 19:35:46,433 : INFO : EPOCH 23 - PROGRESS: at 36.62% examples, 583906 words/s, in_qsize 15, out_qsize 0\n",
      "2022-12-13 19:35:47,437 : INFO : EPOCH 23 - PROGRESS: at 44.30% examples, 590406 words/s, in_qsize 15, out_qsize 0\n",
      "2022-12-13 19:35:48,439 : INFO : EPOCH 23 - PROGRESS: at 51.34% examples, 587768 words/s, in_qsize 14, out_qsize 1\n",
      "2022-12-13 19:35:49,469 : INFO : EPOCH 23 - PROGRESS: at 59.02% examples, 590292 words/s, in_qsize 15, out_qsize 0\n",
      "2022-12-13 19:35:50,474 : INFO : EPOCH 23 - PROGRESS: at 66.28% examples, 589953 words/s, in_qsize 14, out_qsize 1\n",
      "2022-12-13 19:35:51,481 : INFO : EPOCH 23 - PROGRESS: at 73.52% examples, 589605 words/s, in_qsize 15, out_qsize 0\n",
      "2022-12-13 19:35:52,489 : INFO : EPOCH 23 - PROGRESS: at 80.47% examples, 586908 words/s, in_qsize 14, out_qsize 1\n",
      "2022-12-13 19:35:53,490 : INFO : EPOCH 23 - PROGRESS: at 87.85% examples, 587839 words/s, in_qsize 16, out_qsize 1\n",
      "2022-12-13 19:35:54,499 : INFO : EPOCH 23 - PROGRESS: at 95.11% examples, 587640 words/s, in_qsize 13, out_qsize 2\n",
      "2022-12-13 19:35:55,080 : INFO : EPOCH 23: training on 9226989 raw words (8134028 effective words) took 13.7s, 591702 effective words/s\n",
      "2022-12-13 19:35:56,120 : INFO : EPOCH 24 - PROGRESS: at 6.82% examples, 540077 words/s, in_qsize 14, out_qsize 1\n",
      "2022-12-13 19:35:57,128 : INFO : EPOCH 24 - PROGRESS: at 14.42% examples, 575606 words/s, in_qsize 15, out_qsize 0\n",
      "2022-12-13 19:35:58,150 : INFO : EPOCH 24 - PROGRESS: at 21.66% examples, 576466 words/s, in_qsize 13, out_qsize 2\n",
      "2022-12-13 19:35:59,169 : INFO : EPOCH 24 - PROGRESS: at 29.04% examples, 579406 words/s, in_qsize 12, out_qsize 3\n",
      "2022-12-13 19:36:00,193 : INFO : EPOCH 24 - PROGRESS: at 33.25% examples, 530347 words/s, in_qsize 15, out_qsize 0\n",
      "2022-12-13 19:36:01,197 : INFO : EPOCH 24 - PROGRESS: at 39.53% examples, 526842 words/s, in_qsize 15, out_qsize 0\n",
      "2022-12-13 19:36:02,203 : INFO : EPOCH 24 - PROGRESS: at 44.84% examples, 513045 words/s, in_qsize 15, out_qsize 0\n",
      "2022-12-13 19:36:03,205 : INFO : EPOCH 24 - PROGRESS: at 51.01% examples, 511654 words/s, in_qsize 15, out_qsize 0\n"
     ]
    },
    {
     "name": "stderr",
     "output_type": "stream",
     "text": [
      "2022-12-13 19:36:04,219 : INFO : EPOCH 24 - PROGRESS: at 57.73% examples, 514697 words/s, in_qsize 14, out_qsize 1\n",
      "2022-12-13 19:36:05,285 : INFO : EPOCH 24 - PROGRESS: at 62.82% examples, 501440 words/s, in_qsize 16, out_qsize 0\n",
      "2022-12-13 19:36:06,317 : INFO : EPOCH 24 - PROGRESS: at 68.10% examples, 493840 words/s, in_qsize 15, out_qsize 0\n",
      "2022-12-13 19:36:07,322 : INFO : EPOCH 24 - PROGRESS: at 73.52% examples, 489280 words/s, in_qsize 15, out_qsize 0\n",
      "2022-12-13 19:36:08,333 : INFO : EPOCH 24 - PROGRESS: at 79.17% examples, 486534 words/s, in_qsize 15, out_qsize 0\n",
      "2022-12-13 19:36:09,380 : INFO : EPOCH 24 - PROGRESS: at 84.92% examples, 483595 words/s, in_qsize 15, out_qsize 0\n",
      "2022-12-13 19:36:10,409 : INFO : EPOCH 24 - PROGRESS: at 91.10% examples, 483892 words/s, in_qsize 15, out_qsize 0\n",
      "2022-12-13 19:36:11,411 : INFO : EPOCH 24 - PROGRESS: at 96.75% examples, 482278 words/s, in_qsize 16, out_qsize 3\n",
      "2022-12-13 19:36:11,847 : INFO : EPOCH 24: training on 9226989 raw words (8134443 effective words) took 16.8s, 485504 effective words/s\n",
      "2022-12-13 19:36:12,892 : INFO : EPOCH 25 - PROGRESS: at 5.09% examples, 401509 words/s, in_qsize 16, out_qsize 1\n",
      "2022-12-13 19:36:13,912 : INFO : EPOCH 25 - PROGRESS: at 11.17% examples, 442163 words/s, in_qsize 14, out_qsize 1\n",
      "2022-12-13 19:36:15,108 : INFO : EPOCH 25 - PROGRESS: at 15.50% examples, 387839 words/s, in_qsize 14, out_qsize 1\n",
      "2022-12-13 19:36:16,128 : INFO : EPOCH 25 - PROGRESS: at 18.97% examples, 361167 words/s, in_qsize 15, out_qsize 0\n",
      "2022-12-13 19:36:17,137 : INFO : EPOCH 25 - PROGRESS: at 22.64% examples, 348930 words/s, in_qsize 16, out_qsize 0\n",
      "2022-12-13 19:36:18,238 : INFO : EPOCH 25 - PROGRESS: at 26.98% examples, 344001 words/s, in_qsize 15, out_qsize 0\n",
      "2022-12-13 19:36:19,352 : INFO : EPOCH 25 - PROGRESS: at 31.42% examples, 341060 words/s, in_qsize 15, out_qsize 0\n",
      "2022-12-13 19:36:20,672 : INFO : EPOCH 25 - PROGRESS: at 35.76% examples, 329914 words/s, in_qsize 13, out_qsize 2\n",
      "2022-12-13 19:36:21,707 : INFO : EPOCH 25 - PROGRESS: at 40.95% examples, 338243 words/s, in_qsize 15, out_qsize 0\n",
      "2022-12-13 19:36:22,739 : INFO : EPOCH 25 - PROGRESS: at 47.88% examples, 357967 words/s, in_qsize 14, out_qsize 1\n",
      "2022-12-13 19:36:23,743 : INFO : EPOCH 25 - PROGRESS: at 55.14% examples, 377453 words/s, in_qsize 15, out_qsize 0\n",
      "2022-12-13 19:36:24,746 : INFO : EPOCH 25 - PROGRESS: at 62.82% examples, 396606 words/s, in_qsize 15, out_qsize 0\n",
      "2022-12-13 19:36:25,765 : INFO : EPOCH 25 - PROGRESS: at 69.84% examples, 408763 words/s, in_qsize 16, out_qsize 0\n",
      "2022-12-13 19:36:26,807 : INFO : EPOCH 25 - PROGRESS: at 76.34% examples, 415626 words/s, in_qsize 16, out_qsize 0\n",
      "2022-12-13 19:36:27,835 : INFO : EPOCH 25 - PROGRESS: at 82.53% examples, 420359 words/s, in_qsize 14, out_qsize 1\n",
      "2022-12-13 19:36:28,839 : INFO : EPOCH 25 - PROGRESS: at 87.52% examples, 419373 words/s, in_qsize 16, out_qsize 0\n",
      "2022-12-13 19:36:29,846 : INFO : EPOCH 25 - PROGRESS: at 93.58% examples, 423340 words/s, in_qsize 15, out_qsize 0\n",
      "2022-12-13 19:36:30,885 : INFO : EPOCH 25 - PROGRESS: at 99.02% examples, 423360 words/s, in_qsize 9, out_qsize 1\n",
      "2022-12-13 19:36:30,984 : INFO : EPOCH 25: training on 9226989 raw words (8133986 effective words) took 19.1s, 425344 effective words/s\n",
      "2022-12-13 19:36:32,062 : INFO : EPOCH 26 - PROGRESS: at 5.52% examples, 422539 words/s, in_qsize 14, out_qsize 1\n",
      "2022-12-13 19:36:33,076 : INFO : EPOCH 26 - PROGRESS: at 12.03% examples, 470620 words/s, in_qsize 13, out_qsize 2\n",
      "2022-12-13 19:36:34,095 : INFO : EPOCH 26 - PROGRESS: at 18.64% examples, 489348 words/s, in_qsize 16, out_qsize 1\n",
      "2022-12-13 19:36:35,100 : INFO : EPOCH 26 - PROGRESS: at 25.24% examples, 500556 words/s, in_qsize 15, out_qsize 0\n",
      "2022-12-13 19:36:36,110 : INFO : EPOCH 26 - PROGRESS: at 31.96% examples, 508540 words/s, in_qsize 15, out_qsize 0\n",
      "2022-12-13 19:36:37,219 : INFO : EPOCH 26 - PROGRESS: at 38.02% examples, 497175 words/s, in_qsize 15, out_qsize 0\n",
      "2022-12-13 19:36:38,238 : INFO : EPOCH 26 - PROGRESS: at 43.65% examples, 490548 words/s, in_qsize 15, out_qsize 0\n",
      "2022-12-13 19:36:39,326 : INFO : EPOCH 26 - PROGRESS: at 49.50% examples, 483618 words/s, in_qsize 14, out_qsize 1\n",
      "2022-12-13 19:36:40,370 : INFO : EPOCH 26 - PROGRESS: at 55.57% examples, 482451 words/s, in_qsize 15, out_qsize 0\n"
     ]
    },
    {
     "ename": "KeyboardInterrupt",
     "evalue": "",
     "output_type": "error",
     "traceback": [
      "\u001b[0;31m---------------------------------------------------------------------------\u001b[0m",
      "\u001b[0;31mKeyboardInterrupt\u001b[0m                         Traceback (most recent call last)",
      "File \u001b[0;32m<timed eval>:1\u001b[0m\n",
      "File \u001b[0;32m/Library/Frameworks/Python.framework/Versions/3.10/lib/python3.10/site-packages/gensim/models/word2vec.py:1070\u001b[0m, in \u001b[0;36mWord2Vec.train\u001b[0;34m(self, corpus_iterable, corpus_file, total_examples, total_words, epochs, start_alpha, end_alpha, word_count, queue_factor, report_delay, compute_loss, callbacks, **kwargs)\u001b[0m\n\u001b[1;32m   1067\u001b[0m     callback\u001b[38;5;241m.\u001b[39mon_epoch_begin(\u001b[38;5;28mself\u001b[39m)\n\u001b[1;32m   1069\u001b[0m \u001b[38;5;28;01mif\u001b[39;00m corpus_iterable \u001b[38;5;129;01mis\u001b[39;00m \u001b[38;5;129;01mnot\u001b[39;00m \u001b[38;5;28;01mNone\u001b[39;00m:\n\u001b[0;32m-> 1070\u001b[0m     trained_word_count_epoch, raw_word_count_epoch, job_tally_epoch \u001b[38;5;241m=\u001b[39m \u001b[38;5;28;43mself\u001b[39;49m\u001b[38;5;241;43m.\u001b[39;49m\u001b[43m_train_epoch\u001b[49m\u001b[43m(\u001b[49m\n\u001b[1;32m   1071\u001b[0m \u001b[43m        \u001b[49m\u001b[43mcorpus_iterable\u001b[49m\u001b[43m,\u001b[49m\u001b[43m \u001b[49m\u001b[43mcur_epoch\u001b[49m\u001b[38;5;241;43m=\u001b[39;49m\u001b[43mcur_epoch\u001b[49m\u001b[43m,\u001b[49m\u001b[43m \u001b[49m\u001b[43mtotal_examples\u001b[49m\u001b[38;5;241;43m=\u001b[39;49m\u001b[43mtotal_examples\u001b[49m\u001b[43m,\u001b[49m\n\u001b[1;32m   1072\u001b[0m \u001b[43m        \u001b[49m\u001b[43mtotal_words\u001b[49m\u001b[38;5;241;43m=\u001b[39;49m\u001b[43mtotal_words\u001b[49m\u001b[43m,\u001b[49m\u001b[43m \u001b[49m\u001b[43mqueue_factor\u001b[49m\u001b[38;5;241;43m=\u001b[39;49m\u001b[43mqueue_factor\u001b[49m\u001b[43m,\u001b[49m\u001b[43m \u001b[49m\u001b[43mreport_delay\u001b[49m\u001b[38;5;241;43m=\u001b[39;49m\u001b[43mreport_delay\u001b[49m\u001b[43m,\u001b[49m\n\u001b[1;32m   1073\u001b[0m \u001b[43m        \u001b[49m\u001b[43mcallbacks\u001b[49m\u001b[38;5;241;43m=\u001b[39;49m\u001b[43mcallbacks\u001b[49m\u001b[43m,\u001b[49m\u001b[43m \u001b[49m\u001b[38;5;241;43m*\u001b[39;49m\u001b[38;5;241;43m*\u001b[39;49m\u001b[43mkwargs\u001b[49m\u001b[43m)\u001b[49m\n\u001b[1;32m   1074\u001b[0m \u001b[38;5;28;01melse\u001b[39;00m:\n\u001b[1;32m   1075\u001b[0m     trained_word_count_epoch, raw_word_count_epoch, job_tally_epoch \u001b[38;5;241m=\u001b[39m \u001b[38;5;28mself\u001b[39m\u001b[38;5;241m.\u001b[39m_train_epoch_corpusfile(\n\u001b[1;32m   1076\u001b[0m         corpus_file, cur_epoch\u001b[38;5;241m=\u001b[39mcur_epoch, total_examples\u001b[38;5;241m=\u001b[39mtotal_examples, total_words\u001b[38;5;241m=\u001b[39mtotal_words,\n\u001b[1;32m   1077\u001b[0m         callbacks\u001b[38;5;241m=\u001b[39mcallbacks, \u001b[38;5;241m*\u001b[39m\u001b[38;5;241m*\u001b[39mkwargs)\n",
      "File \u001b[0;32m/Library/Frameworks/Python.framework/Versions/3.10/lib/python3.10/site-packages/gensim/models/word2vec.py:1431\u001b[0m, in \u001b[0;36mWord2Vec._train_epoch\u001b[0;34m(self, data_iterable, cur_epoch, total_examples, total_words, queue_factor, report_delay, callbacks)\u001b[0m\n\u001b[1;32m   1428\u001b[0m     thread\u001b[38;5;241m.\u001b[39mdaemon \u001b[38;5;241m=\u001b[39m \u001b[38;5;28;01mTrue\u001b[39;00m  \u001b[38;5;66;03m# make interrupting the process with ctrl+c easier\u001b[39;00m\n\u001b[1;32m   1429\u001b[0m     thread\u001b[38;5;241m.\u001b[39mstart()\n\u001b[0;32m-> 1431\u001b[0m trained_word_count, raw_word_count, job_tally \u001b[38;5;241m=\u001b[39m \u001b[38;5;28;43mself\u001b[39;49m\u001b[38;5;241;43m.\u001b[39;49m\u001b[43m_log_epoch_progress\u001b[49m\u001b[43m(\u001b[49m\n\u001b[1;32m   1432\u001b[0m \u001b[43m    \u001b[49m\u001b[43mprogress_queue\u001b[49m\u001b[43m,\u001b[49m\u001b[43m \u001b[49m\u001b[43mjob_queue\u001b[49m\u001b[43m,\u001b[49m\u001b[43m \u001b[49m\u001b[43mcur_epoch\u001b[49m\u001b[38;5;241;43m=\u001b[39;49m\u001b[43mcur_epoch\u001b[49m\u001b[43m,\u001b[49m\u001b[43m \u001b[49m\u001b[43mtotal_examples\u001b[49m\u001b[38;5;241;43m=\u001b[39;49m\u001b[43mtotal_examples\u001b[49m\u001b[43m,\u001b[49m\n\u001b[1;32m   1433\u001b[0m \u001b[43m    \u001b[49m\u001b[43mtotal_words\u001b[49m\u001b[38;5;241;43m=\u001b[39;49m\u001b[43mtotal_words\u001b[49m\u001b[43m,\u001b[49m\u001b[43m \u001b[49m\u001b[43mreport_delay\u001b[49m\u001b[38;5;241;43m=\u001b[39;49m\u001b[43mreport_delay\u001b[49m\u001b[43m,\u001b[49m\u001b[43m \u001b[49m\u001b[43mis_corpus_file_mode\u001b[49m\u001b[38;5;241;43m=\u001b[39;49m\u001b[38;5;28;43;01mFalse\u001b[39;49;00m\u001b[43m,\u001b[49m\n\u001b[1;32m   1434\u001b[0m \u001b[43m\u001b[49m\u001b[43m)\u001b[49m\n\u001b[1;32m   1436\u001b[0m \u001b[38;5;28;01mreturn\u001b[39;00m trained_word_count, raw_word_count, job_tally\n",
      "File \u001b[0;32m/Library/Frameworks/Python.framework/Versions/3.10/lib/python3.10/site-packages/gensim/models/word2vec.py:1286\u001b[0m, in \u001b[0;36mWord2Vec._log_epoch_progress\u001b[0;34m(self, progress_queue, job_queue, cur_epoch, total_examples, total_words, report_delay, is_corpus_file_mode)\u001b[0m\n\u001b[1;32m   1283\u001b[0m unfinished_worker_count \u001b[38;5;241m=\u001b[39m \u001b[38;5;28mself\u001b[39m\u001b[38;5;241m.\u001b[39mworkers\n\u001b[1;32m   1285\u001b[0m \u001b[38;5;28;01mwhile\u001b[39;00m unfinished_worker_count \u001b[38;5;241m>\u001b[39m \u001b[38;5;241m0\u001b[39m:\n\u001b[0;32m-> 1286\u001b[0m     report \u001b[38;5;241m=\u001b[39m \u001b[43mprogress_queue\u001b[49m\u001b[38;5;241;43m.\u001b[39;49m\u001b[43mget\u001b[49m\u001b[43m(\u001b[49m\u001b[43m)\u001b[49m  \u001b[38;5;66;03m# blocks if workers too slow\u001b[39;00m\n\u001b[1;32m   1287\u001b[0m     \u001b[38;5;28;01mif\u001b[39;00m report \u001b[38;5;129;01mis\u001b[39;00m \u001b[38;5;28;01mNone\u001b[39;00m:  \u001b[38;5;66;03m# a thread reporting that it finished\u001b[39;00m\n\u001b[1;32m   1288\u001b[0m         unfinished_worker_count \u001b[38;5;241m-\u001b[39m\u001b[38;5;241m=\u001b[39m \u001b[38;5;241m1\u001b[39m\n",
      "File \u001b[0;32m/Library/Frameworks/Python.framework/Versions/3.10/lib/python3.10/queue.py:171\u001b[0m, in \u001b[0;36mQueue.get\u001b[0;34m(self, block, timeout)\u001b[0m\n\u001b[1;32m    169\u001b[0m \u001b[38;5;28;01melif\u001b[39;00m timeout \u001b[38;5;129;01mis\u001b[39;00m \u001b[38;5;28;01mNone\u001b[39;00m:\n\u001b[1;32m    170\u001b[0m     \u001b[38;5;28;01mwhile\u001b[39;00m \u001b[38;5;129;01mnot\u001b[39;00m \u001b[38;5;28mself\u001b[39m\u001b[38;5;241m.\u001b[39m_qsize():\n\u001b[0;32m--> 171\u001b[0m         \u001b[38;5;28;43mself\u001b[39;49m\u001b[38;5;241;43m.\u001b[39;49m\u001b[43mnot_empty\u001b[49m\u001b[38;5;241;43m.\u001b[39;49m\u001b[43mwait\u001b[49m\u001b[43m(\u001b[49m\u001b[43m)\u001b[49m\n\u001b[1;32m    172\u001b[0m \u001b[38;5;28;01melif\u001b[39;00m timeout \u001b[38;5;241m<\u001b[39m \u001b[38;5;241m0\u001b[39m:\n\u001b[1;32m    173\u001b[0m     \u001b[38;5;28;01mraise\u001b[39;00m \u001b[38;5;167;01mValueError\u001b[39;00m(\u001b[38;5;124m\"\u001b[39m\u001b[38;5;124m'\u001b[39m\u001b[38;5;124mtimeout\u001b[39m\u001b[38;5;124m'\u001b[39m\u001b[38;5;124m must be a non-negative number\u001b[39m\u001b[38;5;124m\"\u001b[39m)\n",
      "File \u001b[0;32m/Library/Frameworks/Python.framework/Versions/3.10/lib/python3.10/threading.py:320\u001b[0m, in \u001b[0;36mCondition.wait\u001b[0;34m(self, timeout)\u001b[0m\n\u001b[1;32m    318\u001b[0m \u001b[38;5;28;01mtry\u001b[39;00m:    \u001b[38;5;66;03m# restore state no matter what (e.g., KeyboardInterrupt)\u001b[39;00m\n\u001b[1;32m    319\u001b[0m     \u001b[38;5;28;01mif\u001b[39;00m timeout \u001b[38;5;129;01mis\u001b[39;00m \u001b[38;5;28;01mNone\u001b[39;00m:\n\u001b[0;32m--> 320\u001b[0m         \u001b[43mwaiter\u001b[49m\u001b[38;5;241;43m.\u001b[39;49m\u001b[43macquire\u001b[49m\u001b[43m(\u001b[49m\u001b[43m)\u001b[49m\n\u001b[1;32m    321\u001b[0m         gotit \u001b[38;5;241m=\u001b[39m \u001b[38;5;28;01mTrue\u001b[39;00m\n\u001b[1;32m    322\u001b[0m     \u001b[38;5;28;01melse\u001b[39;00m:\n",
      "\u001b[0;31mKeyboardInterrupt\u001b[0m: "
     ]
    }
   ],
   "source": [
    "%%time\n",
    "W2VMODEL_final.train(documents_final, total_examples=len(documents_final), epochs=EPOCH_W2V)"
   ]
  },
  {
   "cell_type": "code",
   "execution_count": 18,
   "metadata": {
    "_uuid": "27cc2651c74227115d8bfd8c40e5618048e05edd"
   },
   "outputs": [
    {
     "data": {
      "text/plain": [
       "[('luv', 0.4917762875556946),\n",
       " ('loves', 0.44830799102783203),\n",
       " ('looove', 0.42896777391433716),\n",
       " ('adore', 0.4069608747959137),\n",
       " ('loved', 0.3839113116264343),\n",
       " ('lovee', 0.38276422023773193),\n",
       " ('amazing', 0.3525390923023224),\n",
       " ('awesome', 0.3434097170829773),\n",
       " ('loove', 0.33321109414100647),\n",
       " ('loooove', 0.3300868272781372)]"
      ]
     },
     "execution_count": 18,
     "metadata": {},
     "output_type": "execute_result"
    }
   ],
   "source": [
    "W2VMODEL_final.wv.most_similar(\"love\")"
   ]
  },
  {
   "cell_type": "markdown",
   "metadata": {
    "_uuid": "e13563644468037258598637b49373ca96b9b879"
   },
   "source": [
    "### Tokenize Text"
   ]
  },
  {
   "cell_type": "code",
   "execution_count": 19,
   "metadata": {
    "_uuid": "6852bc709a7cd20173cbeeb218505078f8f37c57"
   },
   "outputs": [
    {
     "name": "stdout",
     "output_type": "stream",
     "text": [
      "Total words 290549\n",
      "CPU times: user 21.4 s, sys: 223 ms, total: 21.6 s\n",
      "Wall time: 22.2 s\n"
     ]
    }
   ],
   "source": [
    "%%time\n",
    "tokenizer_finalv = Tokenizer()\n",
    "tokenizer_finalv.fit_on_texts(traindf.text)\n",
    "\n",
    "vocab_len = len(tokenizer_finalv.word_index) + 1\n",
    "print(\"Total words\", vocab_len)"
   ]
  },
  {
   "cell_type": "code",
   "execution_count": 20,
   "metadata": {
    "_uuid": "45de439df3015030c71f84c2d170346936a1d68f"
   },
   "outputs": [
    {
     "name": "stdout",
     "output_type": "stream",
     "text": [
      "CPU times: user 27.1 s, sys: 1.46 s, total: 28.6 s\n",
      "Wall time: 29.6 s\n"
     ]
    }
   ],
   "source": [
    "%%time\n",
    "train_x = pad_sequences(tokenizer_finalv.texts_to_sequences(traindf.text), maxlen=LENGTH_SEQ)\n",
    "test_x = pad_sequences(tokenizer_finalv.texts_to_sequences(testdf.text), maxlen=LENGTH_SEQ)"
   ]
  },
  {
   "cell_type": "markdown",
   "metadata": {
    "_uuid": "03b35903fc6260e190d6928d240ef7432de117fc"
   },
   "source": [
    "### Label Encoder "
   ]
  },
  {
   "cell_type": "code",
   "execution_count": 21,
   "metadata": {
    "_uuid": "33676e0efa39e97d89bd650b8b4eae933a22fbf0"
   },
   "outputs": [
    {
     "data": {
      "text/plain": [
       "['POSITIVE', 'NEGATIVE', 'NEUTRAL']"
      ]
     },
     "execution_count": 21,
     "metadata": {},
     "output_type": "execute_result"
    }
   ],
   "source": [
    "labels = traindf['target'].unique().tolist()\n",
    "labels.append(NEUTRAL)\n",
    "labels"
   ]
  },
  {
   "cell_type": "code",
   "execution_count": 22,
   "metadata": {
    "_uuid": "04239a9bef76e7922fd86098a5601dfde8ee4665"
   },
   "outputs": [
    {
     "name": "stdout",
     "output_type": "stream",
     "text": [
      "train_y (1280000, 1)\n",
      "test_y (320000, 1)\n"
     ]
    }
   ],
   "source": [
    "label_encoder = LabelEncoder()\n",
    "label_encoder.fit(traindf.target.tolist())\n",
    "\n",
    "train_y = label_encoder.transform(traindf.target.tolist())\n",
    "test_y = label_encoder.transform(testdf.target.tolist())\n",
    "\n",
    "train_y = train_y.reshape(-1,1)\n",
    "test_y = test_y.reshape(-1,1)\n",
    "\n",
    "print(\"train_y\",train_y.shape)\n",
    "print(\"test_y\",test_y.shape)"
   ]
  },
  {
   "cell_type": "code",
   "execution_count": 23,
   "metadata": {
    "_uuid": "04299c886911ca135583ab64878f213939a2990c"
   },
   "outputs": [
    {
     "name": "stdout",
     "output_type": "stream",
     "text": [
      "train_x shape (1280000, 300)\n",
      "train_y shape (1280000, 1)\n",
      "\n",
      "test_x shape (320000, 300)\n",
      "test_y shape (320000, 1)\n"
     ]
    }
   ],
   "source": [
    "print(\"train_x shape\", train_x.shape)\n",
    "print(\"train_y shape\", train_y.shape)\n",
    "print()\n",
    "print(\"test_x shape\", test_x.shape)\n",
    "print(\"test_y shape\", test_y.shape)"
   ]
  },
  {
   "cell_type": "code",
   "execution_count": 24,
   "metadata": {
    "_uuid": "232533fb27b7be99d9b8c2f8fb22c9c6bf121a6f"
   },
   "outputs": [],
   "source": [
    "x_train=train_x[:10000]\n",
    "y_train=train_y[:10000]"
   ]
  },
  {
   "cell_type": "code",
   "execution_count": 25,
   "metadata": {},
   "outputs": [],
   "source": [
    "x_test=test_x[:1000]\n",
    "y_test=test_y[:1000]"
   ]
  },
  {
   "cell_type": "markdown",
   "metadata": {
    "_uuid": "233c0ea94055a03e2e7df3e2a13d036ec963484f"
   },
   "source": [
    "### Embedding layer"
   ]
  },
  {
   "cell_type": "code",
   "execution_count": 26,
   "metadata": {
    "_uuid": "9ab488374b59e3f30f8b1ea92767d853c4846bac"
   },
   "outputs": [
    {
     "name": "stdout",
     "output_type": "stream",
     "text": [
      "(290549, 500)\n"
     ]
    }
   ],
   "source": [
    "embedding_matrix = np.zeros((vocab_len,SIZE_W2V))\n",
    "for word, i in tokenizer_finalv.word_index.items():\n",
    "  if word in W2VMODEL_final.wv:\n",
    "    embedding_matrix[i-1] = W2VMODEL_final.wv[word]\n",
    "print(embedding_matrix.shape)"
   ]
  },
  {
   "cell_type": "code",
   "execution_count": 27,
   "metadata": {
    "_uuid": "833279d91e4286065968237fb5f2a0c2dd4d246c"
   },
   "outputs": [],
   "source": [
    "embedding_layer = Embedding(vocab_len, SIZE_W2V, weights=[embedding_matrix], input_length=LENGTH_SEQ, trainable=True)"
   ]
  },
  {
   "cell_type": "markdown",
   "metadata": {
    "_uuid": "b299ef78f94c2085942c993a2d58753a7476305a"
   },
   "source": [
    "### Build Model"
   ]
  },
  {
   "cell_type": "code",
   "execution_count": 28,
   "metadata": {
    "_uuid": "e775ef4f1b74e6412457181383c39f2df554ef3f"
   },
   "outputs": [
    {
     "name": "stderr",
     "output_type": "stream",
     "text": [
      "2022-12-13 19:37:36.547592: I tensorflow/core/platform/cpu_feature_guard.cc:193] This TensorFlow binary is optimized with oneAPI Deep Neural Network Library (oneDNN) to use the following CPU instructions in performance-critical operations:  AVX2 FMA\n",
      "To enable them in other operations, rebuild TensorFlow with the appropriate compiler flags.\n"
     ]
    },
    {
     "name": "stdout",
     "output_type": "stream",
     "text": [
      "Model: \"sequential\"\n",
      "_________________________________________________________________\n",
      " Layer (type)                Output Shape              Param #   \n",
      "=================================================================\n",
      " embedding (Embedding)       (None, 300, 500)          145274500 \n",
      "                                                                 \n",
      " dropout (Dropout)           (None, 300, 500)          0         \n",
      "                                                                 \n",
      " lstm (LSTM)                 (None, 100)               240400    \n",
      "                                                                 \n",
      " reshape (Reshape)           (None, 20, 5, 1)          0         \n",
      "                                                                 \n",
      " conv2d (Conv2D)             (None, 18, 3, 256)        2560      \n",
      "                                                                 \n",
      " flatten (Flatten)           (None, 13824)             0         \n",
      "                                                                 \n",
      " dense (Dense)               (None, 10)                138250    \n",
      "                                                                 \n",
      " dense_1 (Dense)             (None, 6)                 66        \n",
      "                                                                 \n",
      " dense_2 (Dense)             (None, 1)                 7         \n",
      "                                                                 \n",
      "=================================================================\n",
      "Total params: 145,655,783\n",
      "Trainable params: 145,655,783\n",
      "Non-trainable params: 0\n",
      "_________________________________________________________________\n"
     ]
    }
   ],
   "source": [
    "model = Sequential()\n",
    "model.add(embedding_layer)\n",
    "model.add(Dropout(0.2))\n",
    "model.add(LSTM(100, dropout=0.2, recurrent_dropout=0.1))\n",
    "model.add(Reshape((20,5,1)))\n",
    "model.add(Conv2D(256, kernel_size=3, activation='relu', input_shape=(20,5)))\n",
    "model.add(Flatten())\n",
    "model.add(Dense(10, activation='relu'))\n",
    "model.add(Dense(6, activation='tanh'))\n",
    "model.add(Dense(1, activation='sigmoid'))\n",
    "\n",
    "model.summary()"
   ]
  },
  {
   "cell_type": "markdown",
   "metadata": {
    "_uuid": "28d22eafd0c7d798dcf3d742bc92fb8577939e6c"
   },
   "source": [
    "### Compile model"
   ]
  },
  {
   "cell_type": "code",
   "execution_count": 29,
   "metadata": {
    "_uuid": "1331e08d590bb2aa2033706c8faca217afc0f1c3"
   },
   "outputs": [],
   "source": [
    "model.compile(loss='binary_crossentropy',\n",
    "              optimizer='adam',\n",
    "              metrics=['accuracy'])"
   ]
  },
  {
   "cell_type": "markdown",
   "metadata": {
    "_uuid": "c7733127cb8b380e0c807268903bf4d03ef92542"
   },
   "source": [
    "### Callbacks"
   ]
  },
  {
   "cell_type": "code",
   "execution_count": 30,
   "metadata": {
    "_uuid": "a688df590386f5748da6fe00b01904fe6c71619e"
   },
   "outputs": [],
   "source": [
    "callbacks = [ ReduceLROnPlateau(monitor='val_loss', patience=5, cooldown=0)]\n",
    "              #EarlyStopping(monitor='val_acc', min_delta=1e-4, patience=5)]"
   ]
  },
  {
   "cell_type": "markdown",
   "metadata": {
    "_uuid": "8d0873633dd49179c8cae17377641b97d323ef3b"
   },
   "source": [
    "### Train"
   ]
  },
  {
   "cell_type": "code",
   "execution_count": 90,
   "metadata": {
    "_uuid": "2b659d390c6577dc5cdb6b6297934279b4e801d5"
   },
   "outputs": [
    {
     "name": "stdout",
     "output_type": "stream",
     "text": [
      "Epoch 1/15\n",
      "45/45 [==============================] - 1077s 24s/step - loss: 0.6584 - accuracy: 0.5974 - val_loss: 0.5887 - val_accuracy: 0.6922 - lr: 0.0010\n",
      "Epoch 2/15\n",
      "45/45 [==============================] - 1023s 23s/step - loss: 0.5737 - accuracy: 0.6982 - val_loss: 0.5584 - val_accuracy: 0.7232 - lr: 0.0010\n",
      "Epoch 3/15\n",
      "45/45 [==============================] - 1013s 23s/step - loss: 0.5199 - accuracy: 0.7447 - val_loss: 0.5356 - val_accuracy: 0.7406 - lr: 0.0010\n",
      "Epoch 4/15\n",
      "45/45 [==============================] - 1022s 23s/step - loss: 0.4855 - accuracy: 0.7692 - val_loss: 0.5329 - val_accuracy: 0.7424 - lr: 0.0010\n",
      "Epoch 5/15\n",
      "45/45 [==============================] - 1011s 22s/step - loss: 0.4519 - accuracy: 0.7925 - val_loss: 0.5449 - val_accuracy: 0.7492 - lr: 0.0010\n",
      "Epoch 6/15\n",
      "45/45 [==============================] - 1013s 23s/step - loss: 0.4270 - accuracy: 0.8076 - val_loss: 0.5459 - val_accuracy: 0.7504 - lr: 0.0010\n",
      "Epoch 7/15\n",
      "45/45 [==============================] - 1016s 23s/step - loss: 0.3936 - accuracy: 0.8264 - val_loss: 0.5552 - val_accuracy: 0.7434 - lr: 0.0010\n",
      "Epoch 8/15\n",
      "45/45 [==============================] - 1022s 23s/step - loss: 0.3660 - accuracy: 0.8410 - val_loss: 0.5752 - val_accuracy: 0.7402 - lr: 0.0010\n",
      "Epoch 9/15\n",
      "45/45 [==============================] - 1008s 22s/step - loss: 0.3414 - accuracy: 0.8547 - val_loss: 0.5954 - val_accuracy: 0.7356 - lr: 0.0010\n",
      "Epoch 10/15\n",
      "45/45 [==============================] - 1019s 23s/step - loss: 0.3122 - accuracy: 0.8706 - val_loss: 0.6110 - val_accuracy: 0.7380 - lr: 1.0000e-04\n",
      "Epoch 11/15\n",
      "45/45 [==============================] - 1016s 23s/step - loss: 0.3054 - accuracy: 0.8749 - val_loss: 0.6121 - val_accuracy: 0.7424 - lr: 1.0000e-04\n",
      "Epoch 12/15\n",
      "45/45 [==============================] - 1021s 23s/step - loss: 0.3003 - accuracy: 0.8750 - val_loss: 0.6162 - val_accuracy: 0.7418 - lr: 1.0000e-04\n",
      "Epoch 13/15\n",
      "45/45 [==============================] - 1016s 23s/step - loss: 0.2958 - accuracy: 0.8783 - val_loss: 0.6198 - val_accuracy: 0.7414 - lr: 1.0000e-04\n",
      "Epoch 14/15\n",
      "45/45 [==============================] - 1018s 23s/step - loss: 0.2919 - accuracy: 0.8813 - val_loss: 0.6236 - val_accuracy: 0.7432 - lr: 1.0000e-04\n",
      "Epoch 15/15\n",
      "45/45 [==============================] - 1016s 23s/step - loss: 0.2858 - accuracy: 0.8847 - val_loss: 0.6244 - val_accuracy: 0.7412 - lr: 1.0000e-05\n",
      "CPU times: user 7h 2min 16s, sys: 4h 27min 38s, total: 11h 29min 55s\n",
      "Wall time: 4h 15min 11s\n"
     ]
    }
   ],
   "source": [
    "%%time\n",
    "history = model.fit(x_train, y_train,\n",
    "                    batch_size=1000,\n",
    "                    epochs=1,\n",
    "                    validation_split=0.1,\n",
    "                    verbose=1,\n",
    "                    callbacks=callbacks)"
   ]
  },
  {
   "cell_type": "markdown",
   "metadata": {
    "_uuid": "267258196d96796ac69a7b8c466314bcf5d6ee42"
   },
   "source": [
    "### Evaluate"
   ]
  },
  {
   "cell_type": "code",
   "execution_count": 93,
   "metadata": {
    "_uuid": "98ecd8f1b8b74594c3ea775dd68a094e92458022"
   },
   "outputs": [
    {
     "name": "stdout",
     "output_type": "stream",
     "text": [
      "10/10 [==============================] - 26s 2s/step - loss: 0.6238 - accuracy: 0.7406\n",
      "\n",
      "ACCURACY: 0.7405999898910522\n",
      "LOSS: 0.6237931847572327\n",
      "CPU times: user 1min 13s, sys: 15.1 s, total: 1min 28s\n",
      "Wall time: 26.4 s\n"
     ]
    }
   ],
   "source": [
    "%%time\n",
    "score = model.evaluate(x_test, y_test, batch_size=BATCHSIZE)\n",
    "print()\n",
    "print(\"ACCURACY:\",score[1])\n",
    "print(\"LOSS:\",score[0])"
   ]
  },
  {
   "cell_type": "markdown",
   "metadata": {
    "_uuid": "6bdfc0f6a6af5bebc0271d83dd7432c91001409b"
   },
   "source": [
    "### Predict"
   ]
  },
  {
   "cell_type": "code",
   "execution_count": 94,
   "metadata": {
    "_uuid": "f0b0fa3d4b1bb14b3f5e3d169a369f3ebef29ae1"
   },
   "outputs": [],
   "source": [
    "def sentimentdecoder(score, include_neutral=True):\n",
    "    if include_neutral:        \n",
    "        label = NEUTRAL\n",
    "        if score <= SENTIMENT_THRESHOLDS[0]:\n",
    "            label = NEGATIVE\n",
    "        elif score >= SENTIMENT_THRESHOLDS[1]:\n",
    "            label = POSITIVE\n",
    "\n",
    "        return label\n",
    "    else:\n",
    "        return NEGATIVE if score < 0.5 else POSITIVE"
   ]
  },
  {
   "cell_type": "code",
   "execution_count": 95,
   "metadata": {
    "_uuid": "ed4086d651f2f8cbed11d3c909a8873607d29a06"
   },
   "outputs": [],
   "source": [
    "def predict(text, include_neutral=True):\n",
    "    start_at = time.time()\n",
    "    # Tokenize text\n",
    "    x_test = pad_sequences(tokenizer_finalv.texts_to_sequences([text]), maxlen=LENGTH_SEQ)\n",
    "    # Predict\n",
    "    score = model.predict([x_test])[0]\n",
    "    # Decode sentiment\n",
    "    label = sentimentdecoder(score, include_neutral=include_neutral)\n",
    "\n",
    "    return {\"label\": label, \"score\": float(score),\n",
    "       \"elapsed_time\": time.time()-start_at}  "
   ]
  },
  {
   "cell_type": "code",
   "execution_count": 96,
   "metadata": {
    "_uuid": "ca38b1e6c9b5acfed7467de2cf02a78333108872"
   },
   "outputs": [
    {
     "name": "stdout",
     "output_type": "stream",
     "text": [
      "1/1 [==============================] - 1s 647ms/step\n"
     ]
    },
    {
     "data": {
      "text/plain": [
       "{'label': 'POSITIVE',\n",
       " 'score': 0.9763351678848267,\n",
       " 'elapsed_time': 0.7400579452514648}"
      ]
     },
     "execution_count": 96,
     "metadata": {},
     "output_type": "execute_result"
    }
   ],
   "source": [
    "predict(\"I love the music\")"
   ]
  },
  {
   "cell_type": "code",
   "execution_count": 97,
   "metadata": {
    "_uuid": "0e5fe647533be0148850de349fea6ef6f71303d1"
   },
   "outputs": [
    {
     "name": "stdout",
     "output_type": "stream",
     "text": [
      "1/1 [==============================] - 0s 69ms/step\n"
     ]
    },
    {
     "data": {
      "text/plain": [
       "{'label': 'POSITIVE',\n",
       " 'score': 0.8740862011909485,\n",
       " 'elapsed_time': 0.15700888633728027}"
      ]
     },
     "execution_count": 97,
     "metadata": {},
     "output_type": "execute_result"
    }
   ],
   "source": [
    "predict(\"I am not crazy\")"
   ]
  },
  {
   "cell_type": "code",
   "execution_count": 98,
   "metadata": {
    "_uuid": "37064dffcc8920d34ccd54fac7c8b50e583a8269"
   },
   "outputs": [
    {
     "name": "stdout",
     "output_type": "stream",
     "text": [
      "1/1 [==============================] - 0s 61ms/step\n"
     ]
    },
    {
     "data": {
      "text/plain": [
       "{'label': 'NEGATIVE',\n",
       " 'score': 0.045241184532642365,\n",
       " 'elapsed_time': 0.15354204177856445}"
      ]
     },
     "execution_count": 98,
     "metadata": {},
     "output_type": "execute_result"
    }
   ],
   "source": [
    "predict(\"i am not unhappy\")"
   ]
  },
  {
   "cell_type": "markdown",
   "metadata": {
    "_uuid": "3ee72e47f84b6dbc32e02a783de5ec1661f157e1"
   },
   "source": [
    "### Confusion Matrix"
   ]
  },
  {
   "cell_type": "code",
   "execution_count": 112,
   "metadata": {
    "_uuid": "0e920173eb05f04aecdd735bc5dff0f5be5f8d15"
   },
   "outputs": [
    {
     "name": "stdout",
     "output_type": "stream",
     "text": [
      "2/2 [==============================] - 112s 5s/step\n",
      "CPU times: user 1min 8s, sys: 1min 7s, total: 2min 16s\n",
      "Wall time: 1min 52s\n"
     ]
    }
   ],
   "source": [
    "%%time\n",
    "y_predicted_1d = []\n",
    "y_test_1d = list(testdf.target)\n",
    "scores = model.predict(x_test, verbose=1, batch_size=8000)\n",
    "y_predicted_1d = [sentimentdecoder(score, include_neutral=False) for score in scores]"
   ]
  },
  {
   "cell_type": "code",
   "execution_count": 113,
   "metadata": {
    "_uuid": "b3575191bb425ab871f3f41e83812ee84bb7e595"
   },
   "outputs": [],
   "source": [
    "def plot_confusion_matrix(cm, classes,\n",
    "                          title='Confusion matrix',\n",
    "                          cmap=plt.cm.Blues):\n",
    "    \"\"\"\n",
    "    This function prints and plots the confusion matrix.\n",
    "    Normalization can be applied by setting `normalize=True`.\n",
    "    \"\"\"\n",
    "\n",
    "    cm = cm.astype('float') / cm.sum(axis=1)[:, np.newaxis]\n",
    "\n",
    "    plt.imshow(cm, interpolation='nearest', cmap=cmap)\n",
    "    plt.title(title, fontsize=30)\n",
    "    plt.colorbar()\n",
    "    tick_marks = np.arange(len(classes))\n",
    "    plt.xticks(tick_marks, classes, rotation=90, fontsize=22)\n",
    "    plt.yticks(tick_marks, classes, fontsize=22)\n",
    "\n",
    "    fmt = '.2f'\n",
    "    thresh = cm.max() / 2.\n",
    "    for i, j in itertools.product(range(cm.shape[0]), range(cm.shape[1])):\n",
    "        plt.text(j, i, format(cm[i, j], fmt),\n",
    "                 horizontalalignment=\"center\",\n",
    "                 color=\"white\" if cm[i, j] > thresh else \"black\")\n",
    "\n",
    "    plt.ylabel('True label', fontsize=25)\n",
    "    plt.xlabel('Predicted label', fontsize=25)"
   ]
  },
  {
   "cell_type": "code",
   "execution_count": 116,
   "metadata": {
    "_uuid": "a57dc6f6211c144491a70f533225edfa95a2dc66"
   },
   "outputs": [
    {
     "data": {
      "image/png": "[encoded data removed]",
      "text/plain": [
       "<Figure size 1200x1200 with 2 Axes>"
      ]
     },
     "metadata": {},
     "output_type": "display_data"
    },
    {
     "name": "stdout",
     "output_type": "stream",
     "text": [
      "CPU times: user 693 ms, sys: 132 ms, total: 825 ms\n",
      "Wall time: 831 ms\n"
     ]
    }
   ],
   "source": [
    "%%time\n",
    "cnf_matrix = confusion_matrix(y_test_1d[:10000], y_predicted_1d)\n",
    "plt.figure(figsize=(12,12))\n",
    "plot_confusion_matrix(cnf_matrix, classes=traindf.target.unique(), title=\"Confusion matrix\")\n",
    "plt.show()"
   ]
  },
  {
   "cell_type": "markdown",
   "metadata": {
    "_uuid": "e23b957348dcc084249d3cc7538b972da471c2cd"
   },
   "source": [
    "### Classification Report"
   ]
  },
  {
   "cell_type": "code",
   "execution_count": 119,
   "metadata": {
    "_uuid": "a7fe05b7caa1c984ff1deb0be2f7c6bc043df9f5"
   },
   "outputs": [
    {
     "name": "stdout",
     "output_type": "stream",
     "text": [
      "              precision    recall  f1-score   support\n",
      "\n",
      "    NEGATIVE       0.75      0.72      0.74      5034\n",
      "    POSITIVE       0.73      0.76      0.74      4966\n",
      "\n",
      "    accuracy                           0.74     10000\n",
      "   macro avg       0.74      0.74      0.74     10000\n",
      "weighted avg       0.74      0.74      0.74     10000\n",
      "\n"
     ]
    }
   ],
   "source": [
    "print(classification_report(y_test_1d[:10000], y_predicted_1d[:10000]))"
   ]
  },
  {
   "cell_type": "markdown",
   "metadata": {
    "_uuid": "4eb300f0c6693a618587c7dcf32f77f5416cbfb9"
   },
   "source": [
    "### Accuracy Score"
   ]
  },
  {
   "cell_type": "code",
   "execution_count": 122,
   "metadata": {
    "_uuid": "5cf76e6e09f8a60ed25947932b94c772eda44d23"
   },
   "outputs": [
    {
     "data": {
      "text/plain": [
       "0.7406"
      ]
     },
     "execution_count": 122,
     "metadata": {},
     "output_type": "execute_result"
    }
   ],
   "source": [
    "accuracy_score(y_test_1d[:10000], y_predicted_1d[:10000])"
   ]
  }
 ],
 "metadata": {
  "kernelspec": {
   "display_name": "Python 3 (ipykernel)",
   "language": "python",
   "name": "python3"
  },
  "language_info": {
   "codemirror_mode": {
    "name": "ipython",
    "version": 3
   },
   "file_extension": ".py",
   "mimetype": "text/x-python",
   "name": "python",
   "nbconvert_exporter": "python",
   "pygments_lexer": "ipython3",
   "version": "3.10.5"
  }
 },
 "nbformat": 4,
 "nbformat_minor": 4
}
